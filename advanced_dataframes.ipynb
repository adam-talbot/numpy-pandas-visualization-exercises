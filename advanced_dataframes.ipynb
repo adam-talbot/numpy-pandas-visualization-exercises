{
 "cells": [
  {
   "cell_type": "markdown",
   "id": "68751583-ad21-4558-844a-eb858bc635a0",
   "metadata": {},
   "source": [
    "# Advanced Dataframes"
   ]
  },
  {
   "cell_type": "markdown",
   "id": "3ead0640-a320-46be-9171-dcae7cacf972",
   "metadata": {},
   "source": [
    "## Examples problems from curriculum"
   ]
  },
  {
   "cell_type": "code",
   "execution_count": 1,
   "id": "9b7673e2-9277-490c-9bd9-f23cc7d0bfcb",
   "metadata": {},
   "outputs": [],
   "source": [
    "import pandas as pd\n",
    "import numpy as np\n",
    "from pydataset import data"
   ]
  },
  {
   "cell_type": "markdown",
   "id": "996ee5e2-cda9-4f18-a088-8d11fc996667",
   "metadata": {},
   "source": [
    "Format for connection string: protocol://[user[:password]@]hostname/[database_name]\n",
    "\n",
    "Example of what one might look like: mysql+pymysql://codeup:p@assw0rd@123.123.123.123/some_db\n"
   ]
  },
  {
   "cell_type": "code",
   "execution_count": 2,
   "id": "27f88f0b-a730-43a9-b485-cc6c9a5d93b3",
   "metadata": {},
   "outputs": [],
   "source": [
    "# import necessary info from env.py file\n",
    "\n",
    "from env import host, user, password"
   ]
  },
  {
   "cell_type": "code",
   "execution_count": 3,
   "id": "a17aeb04-ee82-4e3e-8a4b-6bdcac4f0b7f",
   "metadata": {},
   "outputs": [],
   "source": [
    "# create url\n",
    "\n",
    "url = f'mysql+pymysql://{user}:{password}@{host}/employees'"
   ]
  },
  {
   "cell_type": "code",
   "execution_count": 4,
   "id": "226448f1-e844-42b1-9f43-7daf912563d3",
   "metadata": {},
   "outputs": [
    {
     "data": {
      "text/html": [
       "<div>\n",
       "<style scoped>\n",
       "    .dataframe tbody tr th:only-of-type {\n",
       "        vertical-align: middle;\n",
       "    }\n",
       "\n",
       "    .dataframe tbody tr th {\n",
       "        vertical-align: top;\n",
       "    }\n",
       "\n",
       "    .dataframe thead th {\n",
       "        text-align: right;\n",
       "    }\n",
       "</style>\n",
       "<table border=\"1\" class=\"dataframe\">\n",
       "  <thead>\n",
       "    <tr style=\"text-align: right;\">\n",
       "      <th></th>\n",
       "      <th>emp_no</th>\n",
       "      <th>birth_date</th>\n",
       "      <th>first_name</th>\n",
       "      <th>last_name</th>\n",
       "      <th>gender</th>\n",
       "      <th>hire_date</th>\n",
       "    </tr>\n",
       "  </thead>\n",
       "  <tbody>\n",
       "    <tr>\n",
       "      <th>0</th>\n",
       "      <td>10051</td>\n",
       "      <td>1953-07-28</td>\n",
       "      <td>Hidefumi</td>\n",
       "      <td>Caine</td>\n",
       "      <td>M</td>\n",
       "      <td>1992-10-15</td>\n",
       "    </tr>\n",
       "    <tr>\n",
       "      <th>1</th>\n",
       "      <td>10052</td>\n",
       "      <td>1961-02-26</td>\n",
       "      <td>Heping</td>\n",
       "      <td>Nitsch</td>\n",
       "      <td>M</td>\n",
       "      <td>1988-05-21</td>\n",
       "    </tr>\n",
       "    <tr>\n",
       "      <th>2</th>\n",
       "      <td>10053</td>\n",
       "      <td>1954-09-13</td>\n",
       "      <td>Sanjiv</td>\n",
       "      <td>Zschoche</td>\n",
       "      <td>F</td>\n",
       "      <td>1986-02-04</td>\n",
       "    </tr>\n",
       "    <tr>\n",
       "      <th>3</th>\n",
       "      <td>10054</td>\n",
       "      <td>1957-04-04</td>\n",
       "      <td>Mayumi</td>\n",
       "      <td>Schueller</td>\n",
       "      <td>M</td>\n",
       "      <td>1995-03-13</td>\n",
       "    </tr>\n",
       "    <tr>\n",
       "      <th>4</th>\n",
       "      <td>10055</td>\n",
       "      <td>1956-06-06</td>\n",
       "      <td>Georgy</td>\n",
       "      <td>Dredge</td>\n",
       "      <td>M</td>\n",
       "      <td>1992-04-27</td>\n",
       "    </tr>\n",
       "  </tbody>\n",
       "</table>\n",
       "</div>"
      ],
      "text/plain": [
       "   emp_no  birth_date first_name  last_name gender   hire_date\n",
       "0   10051  1953-07-28   Hidefumi      Caine      M  1992-10-15\n",
       "1   10052  1961-02-26     Heping     Nitsch      M  1988-05-21\n",
       "2   10053  1954-09-13     Sanjiv   Zschoche      F  1986-02-04\n",
       "3   10054  1957-04-04     Mayumi  Schueller      M  1995-03-13\n",
       "4   10055  1956-06-06     Georgy     Dredge      M  1992-04-27"
      ]
     },
     "execution_count": 4,
     "metadata": {},
     "output_type": "execute_result"
    }
   ],
   "source": [
    "# read in some data using this url\n",
    "# format is pd.read_sql(query, url)\n",
    "\n",
    "pd.read_sql('SELECT * FROM employees LIMIT 5 OFFSET 50', url)"
   ]
  },
  {
   "cell_type": "code",
   "execution_count": 5,
   "id": "fd9bcc36-dc50-4d35-b1db-5751b3cee689",
   "metadata": {},
   "outputs": [
    {
     "data": {
      "text/html": [
       "<div>\n",
       "<style scoped>\n",
       "    .dataframe tbody tr th:only-of-type {\n",
       "        vertical-align: middle;\n",
       "    }\n",
       "\n",
       "    .dataframe tbody tr th {\n",
       "        vertical-align: top;\n",
       "    }\n",
       "\n",
       "    .dataframe thead th {\n",
       "        text-align: right;\n",
       "    }\n",
       "</style>\n",
       "<table border=\"1\" class=\"dataframe\">\n",
       "  <thead>\n",
       "    <tr style=\"text-align: right;\">\n",
       "      <th></th>\n",
       "      <th>emp_no</th>\n",
       "      <th>first_name</th>\n",
       "      <th>last_name</th>\n",
       "    </tr>\n",
       "  </thead>\n",
       "  <tbody>\n",
       "    <tr>\n",
       "      <th>0</th>\n",
       "      <td>10002</td>\n",
       "      <td>Bezalel</td>\n",
       "      <td>Simmel</td>\n",
       "    </tr>\n",
       "    <tr>\n",
       "      <th>1</th>\n",
       "      <td>10006</td>\n",
       "      <td>Anneke</td>\n",
       "      <td>Preusig</td>\n",
       "    </tr>\n",
       "    <tr>\n",
       "      <th>2</th>\n",
       "      <td>10007</td>\n",
       "      <td>Tzvetan</td>\n",
       "      <td>Zielinski</td>\n",
       "    </tr>\n",
       "    <tr>\n",
       "      <th>3</th>\n",
       "      <td>10009</td>\n",
       "      <td>Sumant</td>\n",
       "      <td>Peac</td>\n",
       "    </tr>\n",
       "    <tr>\n",
       "      <th>4</th>\n",
       "      <td>10010</td>\n",
       "      <td>Duangkaew</td>\n",
       "      <td>Piveteau</td>\n",
       "    </tr>\n",
       "  </tbody>\n",
       "</table>\n",
       "</div>"
      ],
      "text/plain": [
       "   emp_no first_name  last_name\n",
       "0   10002    Bezalel     Simmel\n",
       "1   10006     Anneke    Preusig\n",
       "2   10007    Tzvetan  Zielinski\n",
       "3   10009     Sumant       Peac\n",
       "4   10010  Duangkaew   Piveteau"
      ]
     },
     "execution_count": 5,
     "metadata": {},
     "output_type": "execute_result"
    }
   ],
   "source": [
    "sql = '''\n",
    "SELECT\n",
    "    emp_no,\n",
    "    first_name,\n",
    "    last_name\n",
    "FROM employees\n",
    "WHERE gender = 'F'\n",
    "LIMIT 100\n",
    "'''\n",
    "\n",
    "employees = pd.read_sql(sql, url)\n",
    "employees.head()"
   ]
  },
  {
   "cell_type": "code",
   "execution_count": 6,
   "id": "13950ac5-19ef-4aca-b737-d50ecb8d68ca",
   "metadata": {},
   "outputs": [
    {
     "data": {
      "text/html": [
       "<div>\n",
       "<style scoped>\n",
       "    .dataframe tbody tr th:only-of-type {\n",
       "        vertical-align: middle;\n",
       "    }\n",
       "\n",
       "    .dataframe tbody tr th {\n",
       "        vertical-align: top;\n",
       "    }\n",
       "\n",
       "    .dataframe thead th {\n",
       "        text-align: right;\n",
       "    }\n",
       "</style>\n",
       "<table border=\"1\" class=\"dataframe\">\n",
       "  <thead>\n",
       "    <tr style=\"text-align: right;\">\n",
       "      <th></th>\n",
       "      <th>title</th>\n",
       "      <th>dept_name</th>\n",
       "    </tr>\n",
       "  </thead>\n",
       "  <tbody>\n",
       "    <tr>\n",
       "      <th>0</th>\n",
       "      <td>Staff</td>\n",
       "      <td>Customer Service</td>\n",
       "    </tr>\n",
       "    <tr>\n",
       "      <th>1</th>\n",
       "      <td>Senior Staff</td>\n",
       "      <td>Customer Service</td>\n",
       "    </tr>\n",
       "    <tr>\n",
       "      <th>2</th>\n",
       "      <td>Staff</td>\n",
       "      <td>Customer Service</td>\n",
       "    </tr>\n",
       "    <tr>\n",
       "      <th>3</th>\n",
       "      <td>Senior Staff</td>\n",
       "      <td>Customer Service</td>\n",
       "    </tr>\n",
       "    <tr>\n",
       "      <th>4</th>\n",
       "      <td>Staff</td>\n",
       "      <td>Customer Service</td>\n",
       "    </tr>\n",
       "  </tbody>\n",
       "</table>\n",
       "</div>"
      ],
      "text/plain": [
       "          title         dept_name\n",
       "0         Staff  Customer Service\n",
       "1  Senior Staff  Customer Service\n",
       "2         Staff  Customer Service\n",
       "3  Senior Staff  Customer Service\n",
       "4         Staff  Customer Service"
      ]
     },
     "execution_count": 6,
     "metadata": {},
     "output_type": "execute_result"
    }
   ],
   "source": [
    "query = '''\n",
    "SELECT\n",
    "    t.title as title,\n",
    "    d.dept_name as dept_name\n",
    "FROM titles t\n",
    "JOIN dept_emp USING (emp_no)\n",
    "JOIN departments d USING (dept_no)\n",
    "LIMIT 100\n",
    "'''\n",
    "\n",
    "title_dept = pd.read_sql(query, url)\n",
    "title_dept.head()"
   ]
  },
  {
   "cell_type": "markdown",
   "id": "bc896678-f365-4abb-827a-75e1f5c66742",
   "metadata": {},
   "source": [
    "## Exercises I"
   ]
  },
  {
   "cell_type": "markdown",
   "id": "c6e363c7-b36e-46b1-bc46-7b00e3aafbbd",
   "metadata": {},
   "source": [
    "#### 1. Create a function named get_db_url. It should accept a username, hostname, password, and database name and return a url connection string formatted like in the example at the start of this lesson."
   ]
  },
  {
   "cell_type": "code",
   "execution_count": 7,
   "id": "c1fb6a48-2431-4b13-a6ef-9352cc773d13",
   "metadata": {},
   "outputs": [],
   "source": [
    "def get_db_url(user, host, password, database):\n",
    "    return f'mysql+pymysql://{user}:{password}@{host}/{database}'"
   ]
  },
  {
   "cell_type": "markdown",
   "id": "860343d2-3ebc-414a-aee0-bcf1f6b16b14",
   "metadata": {},
   "source": [
    "#### 2. Use your function to obtain a connection to the employees database."
   ]
  },
  {
   "cell_type": "code",
   "execution_count": 8,
   "id": "5b934fda-50f5-41c0-ad83-43d5fa903adc",
   "metadata": {},
   "outputs": [
    {
     "data": {
      "text/html": [
       "<div>\n",
       "<style scoped>\n",
       "    .dataframe tbody tr th:only-of-type {\n",
       "        vertical-align: middle;\n",
       "    }\n",
       "\n",
       "    .dataframe tbody tr th {\n",
       "        vertical-align: top;\n",
       "    }\n",
       "\n",
       "    .dataframe thead th {\n",
       "        text-align: right;\n",
       "    }\n",
       "</style>\n",
       "<table border=\"1\" class=\"dataframe\">\n",
       "  <thead>\n",
       "    <tr style=\"text-align: right;\">\n",
       "      <th></th>\n",
       "      <th>emp_no</th>\n",
       "      <th>birth_date</th>\n",
       "      <th>first_name</th>\n",
       "      <th>last_name</th>\n",
       "      <th>gender</th>\n",
       "      <th>hire_date</th>\n",
       "    </tr>\n",
       "  </thead>\n",
       "  <tbody>\n",
       "    <tr>\n",
       "      <th>0</th>\n",
       "      <td>10001</td>\n",
       "      <td>1953-09-02</td>\n",
       "      <td>Georgi</td>\n",
       "      <td>Facello</td>\n",
       "      <td>M</td>\n",
       "      <td>1986-06-26</td>\n",
       "    </tr>\n",
       "    <tr>\n",
       "      <th>1</th>\n",
       "      <td>10002</td>\n",
       "      <td>1964-06-02</td>\n",
       "      <td>Bezalel</td>\n",
       "      <td>Simmel</td>\n",
       "      <td>F</td>\n",
       "      <td>1985-11-21</td>\n",
       "    </tr>\n",
       "    <tr>\n",
       "      <th>2</th>\n",
       "      <td>10003</td>\n",
       "      <td>1959-12-03</td>\n",
       "      <td>Parto</td>\n",
       "      <td>Bamford</td>\n",
       "      <td>M</td>\n",
       "      <td>1986-08-28</td>\n",
       "    </tr>\n",
       "    <tr>\n",
       "      <th>3</th>\n",
       "      <td>10004</td>\n",
       "      <td>1954-05-01</td>\n",
       "      <td>Chirstian</td>\n",
       "      <td>Koblick</td>\n",
       "      <td>M</td>\n",
       "      <td>1986-12-01</td>\n",
       "    </tr>\n",
       "    <tr>\n",
       "      <th>4</th>\n",
       "      <td>10005</td>\n",
       "      <td>1955-01-21</td>\n",
       "      <td>Kyoichi</td>\n",
       "      <td>Maliniak</td>\n",
       "      <td>M</td>\n",
       "      <td>1989-09-12</td>\n",
       "    </tr>\n",
       "  </tbody>\n",
       "</table>\n",
       "</div>"
      ],
      "text/plain": [
       "   emp_no  birth_date first_name last_name gender   hire_date\n",
       "0   10001  1953-09-02     Georgi   Facello      M  1986-06-26\n",
       "1   10002  1964-06-02    Bezalel    Simmel      F  1985-11-21\n",
       "2   10003  1959-12-03      Parto   Bamford      M  1986-08-28\n",
       "3   10004  1954-05-01  Chirstian   Koblick      M  1986-12-01\n",
       "4   10005  1955-01-21    Kyoichi  Maliniak      M  1989-09-12"
      ]
     },
     "execution_count": 8,
     "metadata": {},
     "output_type": "execute_result"
    }
   ],
   "source": [
    "pd.read_sql('SELECT * FROM employees LIMIT 5', get_db_url(user, host, password, 'employees'))"
   ]
  },
  {
   "cell_type": "markdown",
   "id": "919259c4-3fcc-4091-be15-5ba9babe6cf5",
   "metadata": {},
   "source": [
    "#### 3. Once you have successfully run a query:\n"
   ]
  },
  {
   "cell_type": "markdown",
   "id": "f9478c71-6139-4261-a1e9-cf162e7291f1",
   "metadata": {},
   "source": [
    "##### a. Intentionally make a typo in the database url. What kind of error message do you see?"
   ]
  },
  {
   "cell_type": "code",
   "execution_count": 9,
   "id": "30eda7c1-30b6-4d33-8e4f-988cc274e58c",
   "metadata": {},
   "outputs": [],
   "source": [
    "#pd.read_sql('SELECT * FROM employees LIMIT 5', get_db_url(user, host, password, 'employeesss'))\n",
    "\n",
    "# OperationalError: (pymysql.err.OperationalError) (1044, \"Access denied for user 'germain_1478'@'%' to database 'employeesss'\")\n",
    "# (Background on this error at: http://sqlalche.me/e/14/e3q8)"
   ]
  },
  {
   "cell_type": "markdown",
   "id": "e4690b07-c6c9-4287-a368-5f1281590c7c",
   "metadata": {},
   "source": [
    "##### b. Intentionally make an error in your SQL query. What does the error message look like?"
   ]
  },
  {
   "cell_type": "code",
   "execution_count": 10,
   "id": "c3712e85-25e8-41ea-886d-d130fe794d36",
   "metadata": {},
   "outputs": [],
   "source": [
    "# pd.read_sql('SELECT FROM employees LIMIT 5', get_db_url(user, host, password, 'employees'))\n",
    "\n",
    "# ProgrammingError: (pymysql.err.ProgrammingError) (1064, \"You have an error in your SQL syntax; check the manual that corresponds to your MySQL server version for the right syntax to use near 'FROM employees LIMIT 5' at line 1\")\n",
    "# [SQL: SELECT FROM employees LIMIT 5]\n",
    "# (Background on this error at: http://sqlalche.me/e/14/f405)"
   ]
  },
  {
   "cell_type": "markdown",
   "id": "29c9c9d2-d786-4736-baa3-d9b774dfadaf",
   "metadata": {},
   "source": [
    "#### 4. Read the employees and titles tables into two separate DataFrames."
   ]
  },
  {
   "cell_type": "code",
   "execution_count": 11,
   "id": "f6680f37-b685-4be3-a1c4-2bcf8e94a250",
   "metadata": {},
   "outputs": [
    {
     "data": {
      "text/html": [
       "<div>\n",
       "<style scoped>\n",
       "    .dataframe tbody tr th:only-of-type {\n",
       "        vertical-align: middle;\n",
       "    }\n",
       "\n",
       "    .dataframe tbody tr th {\n",
       "        vertical-align: top;\n",
       "    }\n",
       "\n",
       "    .dataframe thead th {\n",
       "        text-align: right;\n",
       "    }\n",
       "</style>\n",
       "<table border=\"1\" class=\"dataframe\">\n",
       "  <thead>\n",
       "    <tr style=\"text-align: right;\">\n",
       "      <th></th>\n",
       "      <th>emp_no</th>\n",
       "      <th>birth_date</th>\n",
       "      <th>first_name</th>\n",
       "      <th>last_name</th>\n",
       "      <th>gender</th>\n",
       "      <th>hire_date</th>\n",
       "    </tr>\n",
       "  </thead>\n",
       "  <tbody>\n",
       "    <tr>\n",
       "      <th>0</th>\n",
       "      <td>10001</td>\n",
       "      <td>1953-09-02</td>\n",
       "      <td>Georgi</td>\n",
       "      <td>Facello</td>\n",
       "      <td>M</td>\n",
       "      <td>1986-06-26</td>\n",
       "    </tr>\n",
       "    <tr>\n",
       "      <th>1</th>\n",
       "      <td>10002</td>\n",
       "      <td>1964-06-02</td>\n",
       "      <td>Bezalel</td>\n",
       "      <td>Simmel</td>\n",
       "      <td>F</td>\n",
       "      <td>1985-11-21</td>\n",
       "    </tr>\n",
       "    <tr>\n",
       "      <th>2</th>\n",
       "      <td>10003</td>\n",
       "      <td>1959-12-03</td>\n",
       "      <td>Parto</td>\n",
       "      <td>Bamford</td>\n",
       "      <td>M</td>\n",
       "      <td>1986-08-28</td>\n",
       "    </tr>\n",
       "    <tr>\n",
       "      <th>3</th>\n",
       "      <td>10004</td>\n",
       "      <td>1954-05-01</td>\n",
       "      <td>Chirstian</td>\n",
       "      <td>Koblick</td>\n",
       "      <td>M</td>\n",
       "      <td>1986-12-01</td>\n",
       "    </tr>\n",
       "    <tr>\n",
       "      <th>4</th>\n",
       "      <td>10005</td>\n",
       "      <td>1955-01-21</td>\n",
       "      <td>Kyoichi</td>\n",
       "      <td>Maliniak</td>\n",
       "      <td>M</td>\n",
       "      <td>1989-09-12</td>\n",
       "    </tr>\n",
       "  </tbody>\n",
       "</table>\n",
       "</div>"
      ],
      "text/plain": [
       "   emp_no  birth_date first_name last_name gender   hire_date\n",
       "0   10001  1953-09-02     Georgi   Facello      M  1986-06-26\n",
       "1   10002  1964-06-02    Bezalel    Simmel      F  1985-11-21\n",
       "2   10003  1959-12-03      Parto   Bamford      M  1986-08-28\n",
       "3   10004  1954-05-01  Chirstian   Koblick      M  1986-12-01\n",
       "4   10005  1955-01-21    Kyoichi  Maliniak      M  1989-09-12"
      ]
     },
     "execution_count": 11,
     "metadata": {},
     "output_type": "execute_result"
    }
   ],
   "source": [
    "employees = pd.read_sql('SELECT * FROM employees', get_db_url(user, host, password, 'employees'))\n",
    "employees.head()"
   ]
  },
  {
   "cell_type": "code",
   "execution_count": 12,
   "id": "1f8ddbf3-2173-443a-9693-c6316a7e3e7d",
   "metadata": {},
   "outputs": [
    {
     "data": {
      "text/html": [
       "<div>\n",
       "<style scoped>\n",
       "    .dataframe tbody tr th:only-of-type {\n",
       "        vertical-align: middle;\n",
       "    }\n",
       "\n",
       "    .dataframe tbody tr th {\n",
       "        vertical-align: top;\n",
       "    }\n",
       "\n",
       "    .dataframe thead th {\n",
       "        text-align: right;\n",
       "    }\n",
       "</style>\n",
       "<table border=\"1\" class=\"dataframe\">\n",
       "  <thead>\n",
       "    <tr style=\"text-align: right;\">\n",
       "      <th></th>\n",
       "      <th>emp_no</th>\n",
       "      <th>title</th>\n",
       "      <th>from_date</th>\n",
       "      <th>to_date</th>\n",
       "    </tr>\n",
       "  </thead>\n",
       "  <tbody>\n",
       "    <tr>\n",
       "      <th>0</th>\n",
       "      <td>10001</td>\n",
       "      <td>Senior Engineer</td>\n",
       "      <td>1986-06-26</td>\n",
       "      <td>9999-01-01</td>\n",
       "    </tr>\n",
       "    <tr>\n",
       "      <th>1</th>\n",
       "      <td>10002</td>\n",
       "      <td>Staff</td>\n",
       "      <td>1996-08-03</td>\n",
       "      <td>9999-01-01</td>\n",
       "    </tr>\n",
       "    <tr>\n",
       "      <th>2</th>\n",
       "      <td>10003</td>\n",
       "      <td>Senior Engineer</td>\n",
       "      <td>1995-12-03</td>\n",
       "      <td>9999-01-01</td>\n",
       "    </tr>\n",
       "    <tr>\n",
       "      <th>3</th>\n",
       "      <td>10004</td>\n",
       "      <td>Engineer</td>\n",
       "      <td>1986-12-01</td>\n",
       "      <td>1995-12-01</td>\n",
       "    </tr>\n",
       "    <tr>\n",
       "      <th>4</th>\n",
       "      <td>10004</td>\n",
       "      <td>Senior Engineer</td>\n",
       "      <td>1995-12-01</td>\n",
       "      <td>9999-01-01</td>\n",
       "    </tr>\n",
       "  </tbody>\n",
       "</table>\n",
       "</div>"
      ],
      "text/plain": [
       "   emp_no            title   from_date     to_date\n",
       "0   10001  Senior Engineer  1986-06-26  9999-01-01\n",
       "1   10002            Staff  1996-08-03  9999-01-01\n",
       "2   10003  Senior Engineer  1995-12-03  9999-01-01\n",
       "3   10004         Engineer  1986-12-01  1995-12-01\n",
       "4   10004  Senior Engineer  1995-12-01  9999-01-01"
      ]
     },
     "execution_count": 12,
     "metadata": {},
     "output_type": "execute_result"
    }
   ],
   "source": [
    "titles = pd.read_sql('SELECT * FROM titles', get_db_url(user, host, password, 'employees'))\n",
    "titles.head()"
   ]
  },
  {
   "cell_type": "markdown",
   "id": "d0643245-7735-47d9-a4f7-22f778bb365c",
   "metadata": {},
   "source": [
    "#### 5. How many rows and columns do you have in each DataFrame? Is that what you expected?"
   ]
  },
  {
   "cell_type": "code",
   "execution_count": 13,
   "id": "0f907c55-4800-4d52-827e-abb44a74a59f",
   "metadata": {},
   "outputs": [
    {
     "data": {
      "text/plain": [
       "(300024, 6)"
      ]
     },
     "execution_count": 13,
     "metadata": {},
     "output_type": "execute_result"
    }
   ],
   "source": [
    "employees.shape\n",
    "# yes, this is what I expected (same dimensions as table in SQL Ace)"
   ]
  },
  {
   "cell_type": "code",
   "execution_count": 14,
   "id": "51f2590d-6bc5-488c-8f20-551a5c4fa052",
   "metadata": {},
   "outputs": [
    {
     "data": {
      "text/plain": [
       "(443308, 4)"
      ]
     },
     "execution_count": 14,
     "metadata": {},
     "output_type": "execute_result"
    }
   ],
   "source": [
    "titles.shape\n",
    "# yes, this is what I expected (same dimensions as table in SQL Ace)"
   ]
  },
  {
   "cell_type": "markdown",
   "id": "69941c04-d8c2-4a97-ae8d-df91e0360765",
   "metadata": {},
   "source": [
    "#### 6. Display the summary statistics for each DataFrame."
   ]
  },
  {
   "cell_type": "code",
   "execution_count": 15,
   "id": "099b4c70-c656-4cc8-981d-7718900d3aaf",
   "metadata": {},
   "outputs": [
    {
     "data": {
      "text/html": [
       "<div>\n",
       "<style scoped>\n",
       "    .dataframe tbody tr th:only-of-type {\n",
       "        vertical-align: middle;\n",
       "    }\n",
       "\n",
       "    .dataframe tbody tr th {\n",
       "        vertical-align: top;\n",
       "    }\n",
       "\n",
       "    .dataframe thead th {\n",
       "        text-align: right;\n",
       "    }\n",
       "</style>\n",
       "<table border=\"1\" class=\"dataframe\">\n",
       "  <thead>\n",
       "    <tr style=\"text-align: right;\">\n",
       "      <th></th>\n",
       "      <th>emp_no</th>\n",
       "    </tr>\n",
       "  </thead>\n",
       "  <tbody>\n",
       "    <tr>\n",
       "      <th>count</th>\n",
       "      <td>300024.000000</td>\n",
       "    </tr>\n",
       "    <tr>\n",
       "      <th>mean</th>\n",
       "      <td>253321.763392</td>\n",
       "    </tr>\n",
       "    <tr>\n",
       "      <th>std</th>\n",
       "      <td>161828.235540</td>\n",
       "    </tr>\n",
       "    <tr>\n",
       "      <th>min</th>\n",
       "      <td>10001.000000</td>\n",
       "    </tr>\n",
       "    <tr>\n",
       "      <th>25%</th>\n",
       "      <td>85006.750000</td>\n",
       "    </tr>\n",
       "    <tr>\n",
       "      <th>50%</th>\n",
       "      <td>249987.500000</td>\n",
       "    </tr>\n",
       "    <tr>\n",
       "      <th>75%</th>\n",
       "      <td>424993.250000</td>\n",
       "    </tr>\n",
       "    <tr>\n",
       "      <th>max</th>\n",
       "      <td>499999.000000</td>\n",
       "    </tr>\n",
       "  </tbody>\n",
       "</table>\n",
       "</div>"
      ],
      "text/plain": [
       "              emp_no\n",
       "count  300024.000000\n",
       "mean   253321.763392\n",
       "std    161828.235540\n",
       "min     10001.000000\n",
       "25%     85006.750000\n",
       "50%    249987.500000\n",
       "75%    424993.250000\n",
       "max    499999.000000"
      ]
     },
     "execution_count": 15,
     "metadata": {},
     "output_type": "execute_result"
    }
   ],
   "source": [
    "employees.describe()\n",
    "# not super useful since the emp_no column is the only numerical column in this df"
   ]
  },
  {
   "cell_type": "code",
   "execution_count": 16,
   "id": "339e1c62-e641-48c9-975c-8fa18fa183ae",
   "metadata": {},
   "outputs": [
    {
     "name": "stdout",
     "output_type": "stream",
     "text": [
      "<class 'pandas.core.frame.DataFrame'>\n",
      "RangeIndex: 300024 entries, 0 to 300023\n",
      "Data columns (total 6 columns):\n",
      " #   Column      Non-Null Count   Dtype \n",
      "---  ------      --------------   ----- \n",
      " 0   emp_no      300024 non-null  int64 \n",
      " 1   birth_date  300024 non-null  object\n",
      " 2   first_name  300024 non-null  object\n",
      " 3   last_name   300024 non-null  object\n",
      " 4   gender      300024 non-null  object\n",
      " 5   hire_date   300024 non-null  object\n",
      "dtypes: int64(1), object(5)\n",
      "memory usage: 13.7+ MB\n"
     ]
    }
   ],
   "source": [
    "employees.info()"
   ]
  },
  {
   "cell_type": "code",
   "execution_count": 17,
   "id": "91aa980d-0492-4f6d-8ab6-9493699581c2",
   "metadata": {},
   "outputs": [
    {
     "data": {
      "text/html": [
       "<div>\n",
       "<style scoped>\n",
       "    .dataframe tbody tr th:only-of-type {\n",
       "        vertical-align: middle;\n",
       "    }\n",
       "\n",
       "    .dataframe tbody tr th {\n",
       "        vertical-align: top;\n",
       "    }\n",
       "\n",
       "    .dataframe thead th {\n",
       "        text-align: right;\n",
       "    }\n",
       "</style>\n",
       "<table border=\"1\" class=\"dataframe\">\n",
       "  <thead>\n",
       "    <tr style=\"text-align: right;\">\n",
       "      <th></th>\n",
       "      <th>emp_no</th>\n",
       "    </tr>\n",
       "  </thead>\n",
       "  <tbody>\n",
       "    <tr>\n",
       "      <th>count</th>\n",
       "      <td>443308.000000</td>\n",
       "    </tr>\n",
       "    <tr>\n",
       "      <th>mean</th>\n",
       "      <td>253075.034430</td>\n",
       "    </tr>\n",
       "    <tr>\n",
       "      <th>std</th>\n",
       "      <td>161853.292613</td>\n",
       "    </tr>\n",
       "    <tr>\n",
       "      <th>min</th>\n",
       "      <td>10001.000000</td>\n",
       "    </tr>\n",
       "    <tr>\n",
       "      <th>25%</th>\n",
       "      <td>84855.750000</td>\n",
       "    </tr>\n",
       "    <tr>\n",
       "      <th>50%</th>\n",
       "      <td>249847.500000</td>\n",
       "    </tr>\n",
       "    <tr>\n",
       "      <th>75%</th>\n",
       "      <td>424891.250000</td>\n",
       "    </tr>\n",
       "    <tr>\n",
       "      <th>max</th>\n",
       "      <td>499999.000000</td>\n",
       "    </tr>\n",
       "  </tbody>\n",
       "</table>\n",
       "</div>"
      ],
      "text/plain": [
       "              emp_no\n",
       "count  443308.000000\n",
       "mean   253075.034430\n",
       "std    161853.292613\n",
       "min     10001.000000\n",
       "25%     84855.750000\n",
       "50%    249847.500000\n",
       "75%    424891.250000\n",
       "max    499999.000000"
      ]
     },
     "execution_count": 17,
     "metadata": {},
     "output_type": "execute_result"
    }
   ],
   "source": [
    "titles.describe()\n",
    "# not super useful since the emp_no column is the only numerical column in this df"
   ]
  },
  {
   "cell_type": "code",
   "execution_count": 18,
   "id": "fb99f9f9-1751-492a-9fee-7f5e5be255da",
   "metadata": {},
   "outputs": [
    {
     "name": "stdout",
     "output_type": "stream",
     "text": [
      "<class 'pandas.core.frame.DataFrame'>\n",
      "RangeIndex: 443308 entries, 0 to 443307\n",
      "Data columns (total 4 columns):\n",
      " #   Column     Non-Null Count   Dtype \n",
      "---  ------     --------------   ----- \n",
      " 0   emp_no     443308 non-null  int64 \n",
      " 1   title      443308 non-null  object\n",
      " 2   from_date  443308 non-null  object\n",
      " 3   to_date    443308 non-null  object\n",
      "dtypes: int64(1), object(3)\n",
      "memory usage: 13.5+ MB\n"
     ]
    }
   ],
   "source": [
    "titles.info()"
   ]
  },
  {
   "cell_type": "markdown",
   "id": "c39a2633-83f3-4df4-9814-e0231d9e0b59",
   "metadata": {},
   "source": [
    "#### 7. How many unique titles are in the titles DataFrame?"
   ]
  },
  {
   "cell_type": "code",
   "execution_count": 19,
   "id": "b2528563-6439-42f7-9258-b4f149037a3e",
   "metadata": {},
   "outputs": [
    {
     "data": {
      "text/plain": [
       "7"
      ]
     },
     "execution_count": 19,
     "metadata": {},
     "output_type": "execute_result"
    }
   ],
   "source": [
    "titles.title.unique().size"
   ]
  },
  {
   "cell_type": "markdown",
   "id": "fd7ba286-6406-41dc-a2d4-300616e43544",
   "metadata": {},
   "source": [
    "#### 8. What is the oldest date in the to_date column?"
   ]
  },
  {
   "cell_type": "code",
   "execution_count": 20,
   "id": "fc80b8a6-e90f-45f7-aee8-4d0b6e93dcab",
   "metadata": {},
   "outputs": [
    {
     "data": {
      "text/plain": [
       "datetime.date(1985, 3, 1)"
      ]
     },
     "execution_count": 20,
     "metadata": {},
     "output_type": "execute_result"
    }
   ],
   "source": [
    "titles.to_date.min()"
   ]
  },
  {
   "cell_type": "code",
   "execution_count": 21,
   "id": "c0375916-cfda-49b6-a730-9d64c19a5768",
   "metadata": {},
   "outputs": [
    {
     "data": {
      "text/html": [
       "<div>\n",
       "<style scoped>\n",
       "    .dataframe tbody tr th:only-of-type {\n",
       "        vertical-align: middle;\n",
       "    }\n",
       "\n",
       "    .dataframe tbody tr th {\n",
       "        vertical-align: top;\n",
       "    }\n",
       "\n",
       "    .dataframe thead th {\n",
       "        text-align: right;\n",
       "    }\n",
       "</style>\n",
       "<table border=\"1\" class=\"dataframe\">\n",
       "  <thead>\n",
       "    <tr style=\"text-align: right;\">\n",
       "      <th></th>\n",
       "      <th>emp_no</th>\n",
       "      <th>title</th>\n",
       "      <th>from_date</th>\n",
       "      <th>to_date</th>\n",
       "    </tr>\n",
       "  </thead>\n",
       "  <tbody>\n",
       "    <tr>\n",
       "      <th>16064</th>\n",
       "      <td>20869</td>\n",
       "      <td>Engineer</td>\n",
       "      <td>1985-02-17</td>\n",
       "      <td>1985-03-01</td>\n",
       "    </tr>\n",
       "  </tbody>\n",
       "</table>\n",
       "</div>"
      ],
      "text/plain": [
       "       emp_no     title   from_date     to_date\n",
       "16064   20869  Engineer  1985-02-17  1985-03-01"
      ]
     },
     "execution_count": 21,
     "metadata": {},
     "output_type": "execute_result"
    }
   ],
   "source": [
    "titles.sort_values(by='to_date').head(1)"
   ]
  },
  {
   "cell_type": "markdown",
   "id": "d3d71900-f1e4-4ec7-8f80-c274c01f4c45",
   "metadata": {},
   "source": [
    "#### 9. What is the most recent date in the to_date column?"
   ]
  },
  {
   "cell_type": "code",
   "execution_count": 22,
   "id": "58620f77-31c9-4107-93c0-3089ee29d8e5",
   "metadata": {},
   "outputs": [
    {
     "data": {
      "text/plain": [
       "datetime.date(9999, 1, 1)"
      ]
     },
     "execution_count": 22,
     "metadata": {},
     "output_type": "execute_result"
    }
   ],
   "source": [
    "titles.to_date.max()\n",
    "# this just means currently employed\n",
    "# would be more useful to find most recent to date that is not this value"
   ]
  },
  {
   "cell_type": "code",
   "execution_count": 23,
   "id": "1d512893-fd7e-4082-8cc3-a487792ffdbb",
   "metadata": {},
   "outputs": [
    {
     "data": {
      "text/html": [
       "<div>\n",
       "<style scoped>\n",
       "    .dataframe tbody tr th:only-of-type {\n",
       "        vertical-align: middle;\n",
       "    }\n",
       "\n",
       "    .dataframe tbody tr th {\n",
       "        vertical-align: top;\n",
       "    }\n",
       "\n",
       "    .dataframe thead th {\n",
       "        text-align: right;\n",
       "    }\n",
       "</style>\n",
       "<table border=\"1\" class=\"dataframe\">\n",
       "  <thead>\n",
       "    <tr style=\"text-align: right;\">\n",
       "      <th></th>\n",
       "      <th>emp_no</th>\n",
       "      <th>title</th>\n",
       "      <th>from_date</th>\n",
       "      <th>to_date</th>\n",
       "    </tr>\n",
       "  </thead>\n",
       "  <tbody>\n",
       "    <tr>\n",
       "      <th>0</th>\n",
       "      <td>10001</td>\n",
       "      <td>Senior Engineer</td>\n",
       "      <td>1986-06-26</td>\n",
       "      <td>9999-01-01</td>\n",
       "    </tr>\n",
       "  </tbody>\n",
       "</table>\n",
       "</div>"
      ],
      "text/plain": [
       "   emp_no            title   from_date     to_date\n",
       "0   10001  Senior Engineer  1986-06-26  9999-01-01"
      ]
     },
     "execution_count": 23,
     "metadata": {},
     "output_type": "execute_result"
    }
   ],
   "source": [
    "titles.sort_values(by='to_date', ascending=False).head(1)"
   ]
  },
  {
   "cell_type": "code",
   "execution_count": 30,
   "id": "f81bf376-1e05-45fd-bf8e-78fd24090485",
   "metadata": {},
   "outputs": [
    {
     "data": {
      "text/html": [
       "<div>\n",
       "<style scoped>\n",
       "    .dataframe tbody tr th:only-of-type {\n",
       "        vertical-align: middle;\n",
       "    }\n",
       "\n",
       "    .dataframe tbody tr th {\n",
       "        vertical-align: top;\n",
       "    }\n",
       "\n",
       "    .dataframe thead th {\n",
       "        text-align: right;\n",
       "    }\n",
       "</style>\n",
       "<table border=\"1\" class=\"dataframe\">\n",
       "  <thead>\n",
       "    <tr style=\"text-align: right;\">\n",
       "      <th></th>\n",
       "      <th>emp_no</th>\n",
       "      <th>title</th>\n",
       "      <th>from_date</th>\n",
       "      <th>to_date</th>\n",
       "    </tr>\n",
       "  </thead>\n",
       "  <tbody>\n",
       "    <tr>\n",
       "      <th>17374</th>\n",
       "      <td>21763</td>\n",
       "      <td>Senior Staff</td>\n",
       "      <td>2002-08-01</td>\n",
       "      <td>9999-01-01</td>\n",
       "    </tr>\n",
       "    <tr>\n",
       "      <th>23635</th>\n",
       "      <td>26000</td>\n",
       "      <td>Senior Staff</td>\n",
       "      <td>2002-08-01</td>\n",
       "      <td>9999-01-01</td>\n",
       "    </tr>\n",
       "    <tr>\n",
       "      <th>67904</th>\n",
       "      <td>55876</td>\n",
       "      <td>Senior Staff</td>\n",
       "      <td>2002-08-01</td>\n",
       "      <td>9999-01-01</td>\n",
       "    </tr>\n",
       "    <tr>\n",
       "      <th>80194</th>\n",
       "      <td>64174</td>\n",
       "      <td>Senior Engineer</td>\n",
       "      <td>2002-08-01</td>\n",
       "      <td>9999-01-01</td>\n",
       "    </tr>\n",
       "    <tr>\n",
       "      <th>116305</th>\n",
       "      <td>88539</td>\n",
       "      <td>Senior Staff</td>\n",
       "      <td>2002-08-01</td>\n",
       "      <td>9999-01-01</td>\n",
       "    </tr>\n",
       "    <tr>\n",
       "      <th>118696</th>\n",
       "      <td>90134</td>\n",
       "      <td>Senior Staff</td>\n",
       "      <td>2002-08-01</td>\n",
       "      <td>9999-01-01</td>\n",
       "    </tr>\n",
       "    <tr>\n",
       "      <th>119479</th>\n",
       "      <td>90666</td>\n",
       "      <td>Senior Engineer</td>\n",
       "      <td>2002-08-01</td>\n",
       "      <td>9999-01-01</td>\n",
       "    </tr>\n",
       "    <tr>\n",
       "      <th>128289</th>\n",
       "      <td>96599</td>\n",
       "      <td>Senior Engineer</td>\n",
       "      <td>2002-08-01</td>\n",
       "      <td>9999-01-01</td>\n",
       "    </tr>\n",
       "    <tr>\n",
       "      <th>135653</th>\n",
       "      <td>101563</td>\n",
       "      <td>Senior Staff</td>\n",
       "      <td>2002-08-01</td>\n",
       "      <td>9999-01-01</td>\n",
       "    </tr>\n",
       "    <tr>\n",
       "      <th>143272</th>\n",
       "      <td>106707</td>\n",
       "      <td>Senior Staff</td>\n",
       "      <td>2002-08-01</td>\n",
       "      <td>9999-01-01</td>\n",
       "    </tr>\n",
       "    <tr>\n",
       "      <th>154943</th>\n",
       "      <td>204587</td>\n",
       "      <td>Senior Engineer</td>\n",
       "      <td>2002-08-01</td>\n",
       "      <td>9999-01-01</td>\n",
       "    </tr>\n",
       "    <tr>\n",
       "      <th>158108</th>\n",
       "      <td>206731</td>\n",
       "      <td>Senior Engineer</td>\n",
       "      <td>2002-08-01</td>\n",
       "      <td>9999-01-01</td>\n",
       "    </tr>\n",
       "    <tr>\n",
       "      <th>164221</th>\n",
       "      <td>210868</td>\n",
       "      <td>Senior Engineer</td>\n",
       "      <td>2002-08-01</td>\n",
       "      <td>9999-01-01</td>\n",
       "    </tr>\n",
       "    <tr>\n",
       "      <th>177342</th>\n",
       "      <td>219722</td>\n",
       "      <td>Engineer</td>\n",
       "      <td>2002-08-01</td>\n",
       "      <td>9999-01-01</td>\n",
       "    </tr>\n",
       "    <tr>\n",
       "      <th>197365</th>\n",
       "      <td>233339</td>\n",
       "      <td>Senior Engineer</td>\n",
       "      <td>2002-08-01</td>\n",
       "      <td>9999-01-01</td>\n",
       "    </tr>\n",
       "    <tr>\n",
       "      <th>197393</th>\n",
       "      <td>233358</td>\n",
       "      <td>Senior Staff</td>\n",
       "      <td>2002-08-01</td>\n",
       "      <td>9999-01-01</td>\n",
       "    </tr>\n",
       "    <tr>\n",
       "      <th>203062</th>\n",
       "      <td>237207</td>\n",
       "      <td>Senior Engineer</td>\n",
       "      <td>2002-08-01</td>\n",
       "      <td>9999-01-01</td>\n",
       "    </tr>\n",
       "    <tr>\n",
       "      <th>235814</th>\n",
       "      <td>259430</td>\n",
       "      <td>Senior Engineer</td>\n",
       "      <td>2002-08-01</td>\n",
       "      <td>9999-01-01</td>\n",
       "    </tr>\n",
       "    <tr>\n",
       "      <th>280178</th>\n",
       "      <td>289500</td>\n",
       "      <td>Senior Staff</td>\n",
       "      <td>2002-08-01</td>\n",
       "      <td>9999-01-01</td>\n",
       "    </tr>\n",
       "    <tr>\n",
       "      <th>291838</th>\n",
       "      <td>297339</td>\n",
       "      <td>Senior Staff</td>\n",
       "      <td>2002-08-01</td>\n",
       "      <td>9999-01-01</td>\n",
       "    </tr>\n",
       "    <tr>\n",
       "      <th>304109</th>\n",
       "      <td>405703</td>\n",
       "      <td>Senior Engineer</td>\n",
       "      <td>2002-08-01</td>\n",
       "      <td>9999-01-01</td>\n",
       "    </tr>\n",
       "    <tr>\n",
       "      <th>308445</th>\n",
       "      <td>408664</td>\n",
       "      <td>Senior Staff</td>\n",
       "      <td>2002-08-01</td>\n",
       "      <td>9999-01-01</td>\n",
       "    </tr>\n",
       "    <tr>\n",
       "      <th>320377</th>\n",
       "      <td>416723</td>\n",
       "      <td>Engineer</td>\n",
       "      <td>2002-08-01</td>\n",
       "      <td>9999-01-01</td>\n",
       "    </tr>\n",
       "    <tr>\n",
       "      <th>365959</th>\n",
       "      <td>447596</td>\n",
       "      <td>Senior Staff</td>\n",
       "      <td>2002-08-01</td>\n",
       "      <td>9999-01-01</td>\n",
       "    </tr>\n",
       "    <tr>\n",
       "      <th>373714</th>\n",
       "      <td>452819</td>\n",
       "      <td>Senior Engineer</td>\n",
       "      <td>2002-08-01</td>\n",
       "      <td>9999-01-01</td>\n",
       "    </tr>\n",
       "    <tr>\n",
       "      <th>387241</th>\n",
       "      <td>461960</td>\n",
       "      <td>Senior Staff</td>\n",
       "      <td>2002-08-01</td>\n",
       "      <td>9999-01-01</td>\n",
       "    </tr>\n",
       "    <tr>\n",
       "      <th>436755</th>\n",
       "      <td>495525</td>\n",
       "      <td>Senior Staff</td>\n",
       "      <td>2002-08-01</td>\n",
       "      <td>9999-01-01</td>\n",
       "    </tr>\n",
       "  </tbody>\n",
       "</table>\n",
       "</div>"
      ],
      "text/plain": [
       "        emp_no            title  from_date     to_date\n",
       "17374    21763     Senior Staff 2002-08-01  9999-01-01\n",
       "23635    26000     Senior Staff 2002-08-01  9999-01-01\n",
       "67904    55876     Senior Staff 2002-08-01  9999-01-01\n",
       "80194    64174  Senior Engineer 2002-08-01  9999-01-01\n",
       "116305   88539     Senior Staff 2002-08-01  9999-01-01\n",
       "118696   90134     Senior Staff 2002-08-01  9999-01-01\n",
       "119479   90666  Senior Engineer 2002-08-01  9999-01-01\n",
       "128289   96599  Senior Engineer 2002-08-01  9999-01-01\n",
       "135653  101563     Senior Staff 2002-08-01  9999-01-01\n",
       "143272  106707     Senior Staff 2002-08-01  9999-01-01\n",
       "154943  204587  Senior Engineer 2002-08-01  9999-01-01\n",
       "158108  206731  Senior Engineer 2002-08-01  9999-01-01\n",
       "164221  210868  Senior Engineer 2002-08-01  9999-01-01\n",
       "177342  219722         Engineer 2002-08-01  9999-01-01\n",
       "197365  233339  Senior Engineer 2002-08-01  9999-01-01\n",
       "197393  233358     Senior Staff 2002-08-01  9999-01-01\n",
       "203062  237207  Senior Engineer 2002-08-01  9999-01-01\n",
       "235814  259430  Senior Engineer 2002-08-01  9999-01-01\n",
       "280178  289500     Senior Staff 2002-08-01  9999-01-01\n",
       "291838  297339     Senior Staff 2002-08-01  9999-01-01\n",
       "304109  405703  Senior Engineer 2002-08-01  9999-01-01\n",
       "308445  408664     Senior Staff 2002-08-01  9999-01-01\n",
       "320377  416723         Engineer 2002-08-01  9999-01-01\n",
       "365959  447596     Senior Staff 2002-08-01  9999-01-01\n",
       "373714  452819  Senior Engineer 2002-08-01  9999-01-01\n",
       "387241  461960     Senior Staff 2002-08-01  9999-01-01\n",
       "436755  495525     Senior Staff 2002-08-01  9999-01-01"
      ]
     },
     "execution_count": 30,
     "metadata": {},
     "output_type": "execute_result"
    }
   ],
   "source": [
    "titles_cleaned.nlargest(1, 'from_date', keep='all')\n",
    "# I can get my method to work for from_date column since there aren't any \"current\" dates here"
   ]
  },
  {
   "cell_type": "code",
   "execution_count": 26,
   "id": "6f78960c-7986-46cd-8462-af44769449b0",
   "metadata": {},
   "outputs": [],
   "source": [
    "titles_cleaned = titles.astype({'from_date' : 'datetime64'})"
   ]
  },
  {
   "cell_type": "code",
   "execution_count": 27,
   "id": "6e15ba37-783f-4691-9924-5378dd9dec64",
   "metadata": {},
   "outputs": [],
   "source": [
    "# haven't been able to get to_date column to convert to right data type, says that the date for current isn't valid since it is in the future"
   ]
  },
  {
   "cell_type": "code",
   "execution_count": 33,
   "id": "9d96452b-138b-44cb-8716-76ca53c09ebc",
   "metadata": {},
   "outputs": [],
   "source": [
    "# lets try to_datetime() method\n",
    "\n",
    "#pd.to_datetime(titles.to_date)\n",
    "#same error: OutOfBoundsDatetime: Out of bounds nanosecond timestamp: 9999-01-01 00:00:00"
   ]
  },
  {
   "cell_type": "code",
   "execution_count": null,
   "id": "a3f7c07f-988e-40dd-9455-ea21c7be6cac",
   "metadata": {},
   "outputs": [],
   "source": []
  }
 ],
 "metadata": {
  "kernelspec": {
   "display_name": "Python 3",
   "language": "python",
   "name": "python3"
  },
  "language_info": {
   "codemirror_mode": {
    "name": "ipython",
    "version": 3
   },
   "file_extension": ".py",
   "mimetype": "text/x-python",
   "name": "python",
   "nbconvert_exporter": "python",
   "pygments_lexer": "ipython3",
   "version": "3.8.8"
  }
 },
 "nbformat": 4,
 "nbformat_minor": 5
}
