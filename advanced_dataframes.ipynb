{
 "cells": [
  {
   "cell_type": "markdown",
   "id": "68751583-ad21-4558-844a-eb858bc635a0",
   "metadata": {},
   "source": [
    "# Advanced Dataframes"
   ]
  },
  {
   "cell_type": "markdown",
   "id": "3ead0640-a320-46be-9171-dcae7cacf972",
   "metadata": {},
   "source": [
    "## Examples problems from curriculum"
   ]
  },
  {
   "cell_type": "code",
   "execution_count": 2,
   "id": "9b7673e2-9277-490c-9bd9-f23cc7d0bfcb",
   "metadata": {},
   "outputs": [],
   "source": [
    "import pandas as pd\n",
    "import numpy as np\n",
    "from pydataset import data"
   ]
  },
  {
   "cell_type": "markdown",
   "id": "996ee5e2-cda9-4f18-a088-8d11fc996667",
   "metadata": {},
   "source": [
    "Format for connection string: protocol://[user[:password]@]hostname/[database_name]\n",
    "\n",
    "Example of what one might look like: mysql+pymysql://codeup:p@assw0rd@123.123.123.123/some_db\n"
   ]
  },
  {
   "cell_type": "code",
   "execution_count": 7,
   "id": "27f88f0b-a730-43a9-b485-cc6c9a5d93b3",
   "metadata": {},
   "outputs": [],
   "source": [
    "# import necessary info from env.py file\n",
    "\n",
    "from env import host, user, password"
   ]
  },
  {
   "cell_type": "code",
   "execution_count": 8,
   "id": "a17aeb04-ee82-4e3e-8a4b-6bdcac4f0b7f",
   "metadata": {},
   "outputs": [],
   "source": [
    "# create url\n",
    "\n",
    "url = f'mysql+pymysql://{user}:{password}@{host}/employees'"
   ]
  },
  {
   "cell_type": "code",
   "execution_count": 9,
   "id": "226448f1-e844-42b1-9f43-7daf912563d3",
   "metadata": {},
   "outputs": [
    {
     "data": {
      "text/html": [
       "<div>\n",
       "<style scoped>\n",
       "    .dataframe tbody tr th:only-of-type {\n",
       "        vertical-align: middle;\n",
       "    }\n",
       "\n",
       "    .dataframe tbody tr th {\n",
       "        vertical-align: top;\n",
       "    }\n",
       "\n",
       "    .dataframe thead th {\n",
       "        text-align: right;\n",
       "    }\n",
       "</style>\n",
       "<table border=\"1\" class=\"dataframe\">\n",
       "  <thead>\n",
       "    <tr style=\"text-align: right;\">\n",
       "      <th></th>\n",
       "      <th>emp_no</th>\n",
       "      <th>birth_date</th>\n",
       "      <th>first_name</th>\n",
       "      <th>last_name</th>\n",
       "      <th>gender</th>\n",
       "      <th>hire_date</th>\n",
       "    </tr>\n",
       "  </thead>\n",
       "  <tbody>\n",
       "    <tr>\n",
       "      <th>0</th>\n",
       "      <td>10051</td>\n",
       "      <td>1953-07-28</td>\n",
       "      <td>Hidefumi</td>\n",
       "      <td>Caine</td>\n",
       "      <td>M</td>\n",
       "      <td>1992-10-15</td>\n",
       "    </tr>\n",
       "    <tr>\n",
       "      <th>1</th>\n",
       "      <td>10052</td>\n",
       "      <td>1961-02-26</td>\n",
       "      <td>Heping</td>\n",
       "      <td>Nitsch</td>\n",
       "      <td>M</td>\n",
       "      <td>1988-05-21</td>\n",
       "    </tr>\n",
       "    <tr>\n",
       "      <th>2</th>\n",
       "      <td>10053</td>\n",
       "      <td>1954-09-13</td>\n",
       "      <td>Sanjiv</td>\n",
       "      <td>Zschoche</td>\n",
       "      <td>F</td>\n",
       "      <td>1986-02-04</td>\n",
       "    </tr>\n",
       "    <tr>\n",
       "      <th>3</th>\n",
       "      <td>10054</td>\n",
       "      <td>1957-04-04</td>\n",
       "      <td>Mayumi</td>\n",
       "      <td>Schueller</td>\n",
       "      <td>M</td>\n",
       "      <td>1995-03-13</td>\n",
       "    </tr>\n",
       "    <tr>\n",
       "      <th>4</th>\n",
       "      <td>10055</td>\n",
       "      <td>1956-06-06</td>\n",
       "      <td>Georgy</td>\n",
       "      <td>Dredge</td>\n",
       "      <td>M</td>\n",
       "      <td>1992-04-27</td>\n",
       "    </tr>\n",
       "  </tbody>\n",
       "</table>\n",
       "</div>"
      ],
      "text/plain": [
       "   emp_no  birth_date first_name  last_name gender   hire_date\n",
       "0   10051  1953-07-28   Hidefumi      Caine      M  1992-10-15\n",
       "1   10052  1961-02-26     Heping     Nitsch      M  1988-05-21\n",
       "2   10053  1954-09-13     Sanjiv   Zschoche      F  1986-02-04\n",
       "3   10054  1957-04-04     Mayumi  Schueller      M  1995-03-13\n",
       "4   10055  1956-06-06     Georgy     Dredge      M  1992-04-27"
      ]
     },
     "execution_count": 9,
     "metadata": {},
     "output_type": "execute_result"
    }
   ],
   "source": [
    "# read in some data using this url\n",
    "\n",
    "pd.read_sql('SELECT * FROM employees LIMIT 5 OFFSET 50', url)"
   ]
  },
  {
   "cell_type": "code",
   "execution_count": null,
   "id": "fd9bcc36-dc50-4d35-b1db-5751b3cee689",
   "metadata": {},
   "outputs": [],
   "source": []
  }
 ],
 "metadata": {
  "kernelspec": {
   "display_name": "Python 3",
   "language": "python",
   "name": "python3"
  },
  "language_info": {
   "codemirror_mode": {
    "name": "ipython",
    "version": 3
   },
   "file_extension": ".py",
   "mimetype": "text/x-python",
   "name": "python",
   "nbconvert_exporter": "python",
   "pygments_lexer": "ipython3",
   "version": "3.8.8"
  }
 },
 "nbformat": 4,
 "nbformat_minor": 5
}
