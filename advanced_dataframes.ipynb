{
 "cells": [
  {
   "cell_type": "markdown",
   "id": "68751583-ad21-4558-844a-eb858bc635a0",
   "metadata": {},
   "source": [
    "# Advanced Dataframes"
   ]
  },
  {
   "cell_type": "markdown",
   "id": "3ead0640-a320-46be-9171-dcae7cacf972",
   "metadata": {},
   "source": [
    "## Examples problems from curriculum"
   ]
  },
  {
   "cell_type": "code",
   "execution_count": 2,
   "id": "9b7673e2-9277-490c-9bd9-f23cc7d0bfcb",
   "metadata": {},
   "outputs": [],
   "source": [
    "import pandas as pd\n",
    "import numpy as np\n",
    "from pydataset import data"
   ]
  },
  {
   "cell_type": "markdown",
   "id": "996ee5e2-cda9-4f18-a088-8d11fc996667",
   "metadata": {},
   "source": [
    "Format for connection string: protocol://[user[:password]@]hostname/[database_name]\n",
    "\n",
    "Example of what one might look like: mysql+pymysql://codeup:p@assw0rd@123.123.123.123/some_db\n"
   ]
  },
  {
   "cell_type": "code",
   "execution_count": 7,
   "id": "27f88f0b-a730-43a9-b485-cc6c9a5d93b3",
   "metadata": {},
   "outputs": [],
   "source": [
    "# import necessary info from env.py file\n",
    "\n",
    "from env import host, user, password"
   ]
  },
  {
   "cell_type": "code",
   "execution_count": 8,
   "id": "a17aeb04-ee82-4e3e-8a4b-6bdcac4f0b7f",
   "metadata": {},
   "outputs": [],
   "source": [
    "# create url\n",
    "\n",
    "url = f'mysql+pymysql://{user}:{password}@{host}/employees'"
   ]
  },
  {
   "cell_type": "code",
   "execution_count": null,
   "id": "226448f1-e844-42b1-9f43-7daf912563d3",
   "metadata": {},
   "outputs": [],
   "source": [
    "# rea"
   ]
  }
 ],
 "metadata": {
  "kernelspec": {
   "display_name": "Python 3",
   "language": "python",
   "name": "python3"
  },
  "language_info": {
   "codemirror_mode": {
    "name": "ipython",
    "version": 3
   },
   "file_extension": ".py",
   "mimetype": "text/x-python",
   "name": "python",
   "nbconvert_exporter": "python",
   "pygments_lexer": "ipython3",
   "version": "3.8.8"
  }
 },
 "nbformat": 4,
 "nbformat_minor": 5
}
