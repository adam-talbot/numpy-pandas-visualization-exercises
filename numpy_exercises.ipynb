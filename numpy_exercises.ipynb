{
 "cells": [
  {
   "cell_type": "markdown",
   "id": "725d1b1c",
   "metadata": {},
   "source": [
    "# Run through examples in curriculum first"
   ]
  },
  {
   "cell_type": "code",
   "execution_count": 1,
   "id": "ac797401",
   "metadata": {},
   "outputs": [],
   "source": [
    "import numpy as np"
   ]
  },
  {
   "cell_type": "markdown",
   "id": "1839a481",
   "metadata": {},
   "source": [
    "## Indexing"
   ]
  },
  {
   "cell_type": "code",
   "execution_count": 2,
   "id": "17a85ca4",
   "metadata": {},
   "outputs": [
    {
     "data": {
      "text/plain": [
       "array([1, 2, 3])"
      ]
     },
     "execution_count": 2,
     "metadata": {},
     "output_type": "execute_result"
    }
   ],
   "source": [
    "a = np.array([1, 2, 3])\n",
    "a"
   ]
  },
  {
   "cell_type": "code",
   "execution_count": 3,
   "id": "0bcdbd20",
   "metadata": {},
   "outputs": [
    {
     "data": {
      "text/plain": [
       "array([[1, 2, 3],\n",
       "       [4, 5, 6],\n",
       "       [7, 8, 9]])"
      ]
     },
     "execution_count": 3,
     "metadata": {},
     "output_type": "execute_result"
    }
   ],
   "source": [
    "matrix = np.array([[1, 2, 3],\n",
    "                   [4, 5, 6],\n",
    "                   [7, 8, 9]])\n",
    "matrix"
   ]
  },
  {
   "cell_type": "code",
   "execution_count": 4,
   "id": "a5409170",
   "metadata": {},
   "outputs": [
    {
     "data": {
      "text/plain": [
       "1"
      ]
     },
     "execution_count": 4,
     "metadata": {},
     "output_type": "execute_result"
    }
   ],
   "source": [
    "a[0]"
   ]
  },
  {
   "cell_type": "code",
   "execution_count": 5,
   "id": "6716b8b3",
   "metadata": {},
   "outputs": [
    {
     "data": {
      "text/plain": [
       "array([1, 2, 3])"
      ]
     },
     "execution_count": 5,
     "metadata": {},
     "output_type": "execute_result"
    }
   ],
   "source": [
    "a[:]"
   ]
  },
  {
   "cell_type": "code",
   "execution_count": 13,
   "id": "102856d7",
   "metadata": {},
   "outputs": [
    {
     "data": {
      "text/plain": [
       "array([1])"
      ]
     },
     "execution_count": 13,
     "metadata": {},
     "output_type": "execute_result"
    }
   ],
   "source": [
    "a[:1] #inclusive when slicing from beginning, but not inclusive when slicing from the end"
   ]
  },
  {
   "cell_type": "code",
   "execution_count": 14,
   "id": "2caf9936",
   "metadata": {},
   "outputs": [
    {
     "name": "stdout",
     "output_type": "stream",
     "text": [
      "a    == [1 2 3]\n",
      "a[0] == 1\n",
      "a[1] == 2\n",
      "a[2] == 3\n"
     ]
    }
   ],
   "source": [
    "print('a    == {}'.format(a))\n",
    "print('a[0] == {}'.format(a[0]))\n",
    "print('a[1] == {}'.format(a[1]))\n",
    "print('a[2] == {}'.format(a[2]))"
   ]
  },
  {
   "cell_type": "code",
   "execution_count": 15,
   "id": "5f2f074c",
   "metadata": {},
   "outputs": [
    {
     "data": {
      "text/plain": [
       "5"
      ]
     },
     "execution_count": 15,
     "metadata": {},
     "output_type": "execute_result"
    }
   ],
   "source": [
    "matrix[1, 1]"
   ]
  },
  {
   "cell_type": "code",
   "execution_count": 16,
   "id": "a76e4682",
   "metadata": {},
   "outputs": [
    {
     "data": {
      "text/plain": [
       "array([[4, 5],\n",
       "       [7, 8]])"
      ]
     },
     "execution_count": 16,
     "metadata": {},
     "output_type": "execute_result"
    }
   ],
   "source": [
    "matrix[1:, :2]"
   ]
  },
  {
   "cell_type": "code",
   "execution_count": 17,
   "id": "71f3917e",
   "metadata": {},
   "outputs": [
    {
     "data": {
      "text/plain": [
       "array([1, 3])"
      ]
     },
     "execution_count": 17,
     "metadata": {},
     "output_type": "execute_result"
    }
   ],
   "source": [
    "should_include_elements = [True, False, True]\n",
    "a[should_include_elements]"
   ]
  },
  {
   "cell_type": "markdown",
   "id": "68e48db2",
   "metadata": {},
   "source": [
    "## Vectorized Operations"
   ]
  },
  {
   "cell_type": "code",
   "execution_count": 19,
   "id": "04e31387",
   "metadata": {},
   "outputs": [
    {
     "name": "stdout",
     "output_type": "stream",
     "text": [
      "An Error Occured!\n",
      "TypeError: can only concatenate list (not \"int\") to list\n"
     ]
    }
   ],
   "source": [
    "original_array = [1, 2, 3, 4, 5]\n",
    "try:\n",
    "    original_array + 1\n",
    "except TypeError as e:\n",
    "    print('An Error Occured!')\n",
    "    print(f'TypeError: {e}')"
   ]
  },
  {
   "cell_type": "code",
   "execution_count": 20,
   "id": "a664d645",
   "metadata": {},
   "outputs": [
    {
     "name": "stdout",
     "output_type": "stream",
     "text": [
      "[2, 3, 4, 5, 6]\n"
     ]
    }
   ],
   "source": [
    "original_array = [1, 2, 3, 4, 5]\n",
    "array_with_one_added = []\n",
    "for n in original_array:\n",
    "    array_with_one_added.append(n + 1)\n",
    "print(array_with_one_added)"
   ]
  },
  {
   "cell_type": "code",
   "execution_count": 21,
   "id": "1a1cf0fc",
   "metadata": {},
   "outputs": [
    {
     "name": "stdout",
     "output_type": "stream",
     "text": [
      "[2, 3, 4, 5, 6]\n"
     ]
    }
   ],
   "source": [
    "original_array = [1, 2, 3, 4, 5]\n",
    "array_with_one_added = [n + 1 for n in original_array]\n",
    "print(array_with_one_added)"
   ]
  },
  {
   "cell_type": "code",
   "execution_count": 22,
   "id": "c1e56fab",
   "metadata": {},
   "outputs": [
    {
     "data": {
      "text/plain": [
       "array([2, 3, 4, 5, 6])"
      ]
     },
     "execution_count": 22,
     "metadata": {},
     "output_type": "execute_result"
    }
   ],
   "source": [
    "original_array = np.array([1, 2, 3, 4, 5])\n",
    "original_array + 1"
   ]
  },
  {
   "cell_type": "code",
   "execution_count": 23,
   "id": "97f369ae",
   "metadata": {},
   "outputs": [
    {
     "name": "stdout",
     "output_type": "stream",
     "text": [
      "my_array      == [-3  0  3 16]\n",
      "my_array - 5  == [-8 -5 -2 11]\n",
      "my_array * 4  == [-12   0  12  64]\n",
      "my_array / 2  == [-1.5  0.   1.5  8. ]\n",
      "my_array ** 2 == [  9   0   9 256]\n",
      "my_array % 2  == [1 0 1 0]\n"
     ]
    }
   ],
   "source": [
    "my_array = np.array([-3, 0, 3, 16])\n",
    "\n",
    "print('my_array      == {}'.format(my_array))\n",
    "print('my_array - 5  == {}'.format(my_array - 5))\n",
    "print('my_array * 4  == {}'.format(my_array * 4))\n",
    "print('my_array / 2  == {}'.format(my_array / 2))\n",
    "print('my_array ** 2 == {}'.format(my_array ** 2))\n",
    "print('my_array % 2  == {}'.format(my_array % 2))"
   ]
  },
  {
   "cell_type": "code",
   "execution_count": 24,
   "id": "fcfe8267",
   "metadata": {},
   "outputs": [
    {
     "name": "stdout",
     "output_type": "stream",
     "text": [
      "my_array       == [-3  0  3 16]\n",
      "my_array == -3 == [ True False False False]\n",
      "my_array >= 0  == [False  True  True  True]\n",
      "my_array < 10  == [ True  True  True False]\n"
     ]
    }
   ],
   "source": [
    "my_array = np.array([-3, 0, 3, 16])\n",
    "\n",
    "print('my_array       == {}'.format(my_array))\n",
    "print('my_array == -3 == {}'.format(my_array == -3))\n",
    "print('my_array >= 0  == {}'.format(my_array >= 0))\n",
    "print('my_array < 10  == {}'.format(my_array < 10))"
   ]
  },
  {
   "cell_type": "code",
   "execution_count": 26,
   "id": "27d94752",
   "metadata": {},
   "outputs": [
    {
     "data": {
      "text/plain": [
       "array([ 3, 16])"
      ]
     },
     "execution_count": 26,
     "metadata": {},
     "output_type": "execute_result"
    }
   ],
   "source": [
    "my_array[my_array > 0]"
   ]
  },
  {
   "cell_type": "code",
   "execution_count": 27,
   "id": "182e47da",
   "metadata": {},
   "outputs": [
    {
     "data": {
      "text/plain": [
       "array([ 0, 16])"
      ]
     },
     "execution_count": 27,
     "metadata": {},
     "output_type": "execute_result"
    }
   ],
   "source": [
    "my_array[my_array % 2 == 0]"
   ]
  },
  {
   "cell_type": "code",
   "execution_count": 28,
   "id": "ee2bf887",
   "metadata": {},
   "outputs": [
    {
     "data": {
      "text/plain": [
       "array([False,  True, False,  True])"
      ]
     },
     "execution_count": 28,
     "metadata": {},
     "output_type": "execute_result"
    }
   ],
   "source": [
    "result = my_array % 2\n",
    "result == 0"
   ]
  },
  {
   "cell_type": "code",
   "execution_count": 30,
   "id": "ff0ca000",
   "metadata": {},
   "outputs": [
    {
     "data": {
      "text/plain": [
       "array([ 0, 16])"
      ]
     },
     "execution_count": 30,
     "metadata": {},
     "output_type": "execute_result"
    }
   ],
   "source": [
    "step_1 = my_array % 2\n",
    "step_2 = step_1 == 0\n",
    "step_3 = my_array[step_2]\n",
    "\n",
    "step_3"
   ]
  },
  {
   "cell_type": "code",
   "execution_count": 31,
   "id": "7ef4d3c2",
   "metadata": {},
   "outputs": [
    {
     "name": "stdout",
     "output_type": "stream",
     "text": [
      "1. my_array[my_array % 2 == 0]\n",
      "    - the original expression\n",
      "2. my_array[[-3  0  3 16] % 2 == 0]\n",
      "    - variable substitution\n",
      "3. my_array[[1 0 1 0] == 0]\n",
      "    - result of performing the vectorized modulus 2\n",
      "4. my_array[[False  True False  True]]\n",
      "    - result of comparing to 0\n",
      "5. [-3  0  3 16][[False  True False  True]]\n",
      "    - variable substitution\n",
      "6. [ 0 16]\n",
      "    - our final result\n"
     ]
    }
   ],
   "source": [
    "print('1. my_array[my_array % 2 == 0]')\n",
    "print('    - the original expression')\n",
    "print('2. my_array[{} % 2 == 0]'.format(my_array))\n",
    "print('    - variable substitution')\n",
    "print('3. my_array[{} == 0]'.format(my_array % 2))\n",
    "print('    - result of performing the vectorized modulus 2')\n",
    "print('4. my_array[{}]'.format(my_array % 2 == 0))\n",
    "print('    - result of comparing to 0')\n",
    "print('5. {}[{}]'.format(my_array, my_array % 2 == 0))\n",
    "print('    - variable substitution')\n",
    "print('6. {}'.format(my_array[my_array % 2 == 0]))\n",
    "print('    - our final result')"
   ]
  },
  {
   "cell_type": "markdown",
   "id": "076e4b22",
   "metadata": {},
   "source": [
    "## Array Creation"
   ]
  },
  {
   "cell_type": "code",
   "execution_count": 32,
   "id": "168c7f3a",
   "metadata": {},
   "outputs": [
    {
     "data": {
      "text/plain": [
       "array([-1.0108973 , -1.9485315 ,  0.62520543, -1.03529426, -0.56172412,\n",
       "       -0.16903934,  0.30115201, -0.2784296 , -0.68717236, -1.99339745])"
      ]
     },
     "execution_count": 32,
     "metadata": {},
     "output_type": "execute_result"
    }
   ],
   "source": [
    "np.random.randn(10)"
   ]
  },
  {
   "cell_type": "code",
   "execution_count": 33,
   "id": "f6e0dcd2",
   "metadata": {},
   "outputs": [
    {
     "data": {
      "text/plain": [
       "array([[ 3.04572915e-01, -3.34786379e-03,  2.79128252e+00,\n",
       "         7.78819872e-01],\n",
       "       [ 1.93299400e-03, -3.93620011e-01, -1.16422060e+00,\n",
       "         9.08627619e-01],\n",
       "       [-5.35138575e-01,  3.56853680e-01,  1.80146064e-01,\n",
       "         1.36486354e+00]])"
      ]
     },
     "execution_count": 33,
     "metadata": {},
     "output_type": "execute_result"
    }
   ],
   "source": [
    "np.random.randn(3, 4)"
   ]
  },
  {
   "cell_type": "code",
   "execution_count": 34,
   "id": "e2ebc015",
   "metadata": {},
   "outputs": [
    {
     "data": {
      "text/plain": [
       "array([ 62.51223446,  86.43253627,  98.28450584,  34.79767446,\n",
       "        92.24940134, 112.48112948, 114.96466923, 100.57734681,\n",
       "       106.05671806,  85.22089861,  76.57267053,  56.86392803,\n",
       "        90.95289944,  88.28857129, 107.81585508,  97.83049419,\n",
       "        88.36038285,  82.65338403, 123.56002256, 106.46671838])"
      ]
     },
     "execution_count": 34,
     "metadata": {},
     "output_type": "execute_result"
    }
   ],
   "source": [
    "mu = 100\n",
    "sigma = 30\n",
    "\n",
    "sigma * np.random.randn(20) + mu"
   ]
  },
  {
   "cell_type": "code",
   "execution_count": 35,
   "id": "9bed0971",
   "metadata": {},
   "outputs": [
    {
     "name": "stdout",
     "output_type": "stream",
     "text": [
      "np.zeros(3)    == [0. 0. 0.]\n",
      "np.ones(3)     == [1. 1. 1.]\n",
      "np.full(3, 17) == [17 17 17]\n"
     ]
    }
   ],
   "source": [
    "print('np.zeros(3)    == {}'.format(np.zeros(3)))\n",
    "print('np.ones(3)     == {}'.format(np.ones(3)))\n",
    "print('np.full(3, 17) == {}'.format(np.full(3, 17)))"
   ]
  },
  {
   "cell_type": "code",
   "execution_count": 36,
   "id": "f98dbeee",
   "metadata": {},
   "outputs": [
    {
     "data": {
      "text/plain": [
       "array([[0., 0., 0.],\n",
       "       [0., 0., 0.]])"
      ]
     },
     "execution_count": 36,
     "metadata": {},
     "output_type": "execute_result"
    }
   ],
   "source": [
    "np.zeros((2, 3))"
   ]
  },
  {
   "cell_type": "code",
   "execution_count": 37,
   "id": "120adb33",
   "metadata": {},
   "outputs": [
    {
     "data": {
      "text/plain": [
       "array([0, 1, 2, 3])"
      ]
     },
     "execution_count": 37,
     "metadata": {},
     "output_type": "execute_result"
    }
   ],
   "source": [
    "np.arange(4)"
   ]
  },
  {
   "cell_type": "code",
   "execution_count": 38,
   "id": "5d640f53",
   "metadata": {},
   "outputs": [
    {
     "data": {
      "text/plain": [
       "array([1, 2, 3])"
      ]
     },
     "execution_count": 38,
     "metadata": {},
     "output_type": "execute_result"
    }
   ],
   "source": [
    "np.arange(1, 4)"
   ]
  },
  {
   "cell_type": "code",
   "execution_count": 39,
   "id": "c122c5e0",
   "metadata": {},
   "outputs": [
    {
     "data": {
      "text/plain": [
       "array([1, 3])"
      ]
     },
     "execution_count": 39,
     "metadata": {},
     "output_type": "execute_result"
    }
   ],
   "source": [
    "np.arange(1, 4, 2)"
   ]
  },
  {
   "cell_type": "code",
   "execution_count": 40,
   "id": "19057165",
   "metadata": {},
   "outputs": [
    {
     "data": {
      "text/plain": [
       "array([3. , 3.5, 4. , 4.5])"
      ]
     },
     "execution_count": 40,
     "metadata": {},
     "output_type": "execute_result"
    }
   ],
   "source": [
    "np.arange(3, 5, 0.5)"
   ]
  },
  {
   "cell_type": "code",
   "execution_count": 41,
   "id": "ea91eae2",
   "metadata": {},
   "outputs": [
    {
     "name": "stdout",
     "output_type": "stream",
     "text": [
      "min: 1, max: 4, length = 4 -- [1. 2. 3. 4.]\n",
      "min: 1, max: 4, length = 7 -- [1.  1.5 2.  2.5 3.  3.5 4. ] \n"
     ]
    }
   ],
   "source": [
    "print('min: 1, max: 4, length = 4 -- {}'.format(np.linspace(1, 4, 4)))\n",
    "print('min: 1, max: 4, length = 7 -- {} '.format(np.linspace(1, 4, 7)))"
   ]
  },
  {
   "cell_type": "markdown",
   "id": "23b0902e",
   "metadata": {},
   "source": [
    "## Array Methods"
   ]
  },
  {
   "cell_type": "code",
   "execution_count": 42,
   "id": "b8fa5771",
   "metadata": {},
   "outputs": [],
   "source": [
    "a = np.array([1, 2, 3, 4, 5])"
   ]
  },
  {
   "cell_type": "code",
   "execution_count": 43,
   "id": "acba38f3",
   "metadata": {},
   "outputs": [
    {
     "data": {
      "text/plain": [
       "1"
      ]
     },
     "execution_count": 43,
     "metadata": {},
     "output_type": "execute_result"
    }
   ],
   "source": [
    "a.min()"
   ]
  },
  {
   "cell_type": "code",
   "execution_count": 44,
   "id": "ff7635ae",
   "metadata": {},
   "outputs": [
    {
     "data": {
      "text/plain": [
       "5"
      ]
     },
     "execution_count": 44,
     "metadata": {},
     "output_type": "execute_result"
    }
   ],
   "source": [
    "a.max()"
   ]
  },
  {
   "cell_type": "code",
   "execution_count": 45,
   "id": "28cd2b74",
   "metadata": {},
   "outputs": [
    {
     "data": {
      "text/plain": [
       "3.0"
      ]
     },
     "execution_count": 45,
     "metadata": {},
     "output_type": "execute_result"
    }
   ],
   "source": [
    "a.mean()"
   ]
  },
  {
   "cell_type": "code",
   "execution_count": 46,
   "id": "75fec9e8",
   "metadata": {},
   "outputs": [
    {
     "data": {
      "text/plain": [
       "15"
      ]
     },
     "execution_count": 46,
     "metadata": {},
     "output_type": "execute_result"
    }
   ],
   "source": [
    "a.sum()"
   ]
  },
  {
   "cell_type": "code",
   "execution_count": 47,
   "id": "a7b321ff",
   "metadata": {},
   "outputs": [
    {
     "data": {
      "text/plain": [
       "1.4142135623730951"
      ]
     },
     "execution_count": 47,
     "metadata": {},
     "output_type": "execute_result"
    }
   ],
   "source": [
    "a.std()"
   ]
  },
  {
   "cell_type": "markdown",
   "id": "8cbf360c",
   "metadata": {},
   "source": [
    "# Exercises"
   ]
  },
  {
   "cell_type": "code",
   "execution_count": 48,
   "id": "12ad54e9",
   "metadata": {},
   "outputs": [],
   "source": [
    "a = np.array([4, 10, 12, 23, -2, -1, 0, 0, 0, -6, 3, -7])"
   ]
  },
  {
   "cell_type": "code",
   "execution_count": 49,
   "id": "eacf4961",
   "metadata": {},
   "outputs": [
    {
     "data": {
      "text/plain": [
       "array([ 4, 10, 12, 23, -2, -1,  0,  0,  0, -6,  3, -7])"
      ]
     },
     "execution_count": 49,
     "metadata": {},
     "output_type": "execute_result"
    }
   ],
   "source": [
    "a"
   ]
  },
  {
   "cell_type": "markdown",
   "id": "73d503a0",
   "metadata": {},
   "source": [
    "1. How many negative numbers are there?"
   ]
  },
  {
   "cell_type": "code",
   "execution_count": 51,
   "id": "8ac0be28",
   "metadata": {},
   "outputs": [
    {
     "data": {
      "text/plain": [
       "4"
      ]
     },
     "execution_count": 51,
     "metadata": {},
     "output_type": "execute_result"
    }
   ],
   "source": [
    "len(a[a < 0])"
   ]
  },
  {
   "cell_type": "markdown",
   "id": "74377e2d",
   "metadata": {},
   "source": [
    "2. How many positive numbers are there?"
   ]
  },
  {
   "cell_type": "code",
   "execution_count": 53,
   "id": "167fc0d6",
   "metadata": {},
   "outputs": [
    {
     "data": {
      "text/plain": [
       "5"
      ]
     },
     "execution_count": 53,
     "metadata": {},
     "output_type": "execute_result"
    }
   ],
   "source": [
    "len(a[a > 0])"
   ]
  },
  {
   "cell_type": "markdown",
   "id": "1596017c",
   "metadata": {},
   "source": [
    "3. How many even positive numbers are there?"
   ]
  },
  {
   "cell_type": "code",
   "execution_count": 63,
   "id": "ab940606",
   "metadata": {},
   "outputs": [
    {
     "data": {
      "text/plain": [
       "array([ 4, 10, 12, 23,  3])"
      ]
     },
     "execution_count": 63,
     "metadata": {},
     "output_type": "execute_result"
    }
   ],
   "source": [
    "b = a[a > 0]\n",
    "b"
   ]
  },
  {
   "cell_type": "code",
   "execution_count": 66,
   "id": "da9800f2",
   "metadata": {},
   "outputs": [
    {
     "data": {
      "text/plain": [
       "array([ 4, 10, 12])"
      ]
     },
     "execution_count": 66,
     "metadata": {},
     "output_type": "execute_result"
    }
   ],
   "source": [
    "c = b[b % 2 == 0]\n",
    "c"
   ]
  },
  {
   "cell_type": "code",
   "execution_count": 67,
   "id": "238d8202",
   "metadata": {},
   "outputs": [
    {
     "data": {
      "text/plain": [
       "3"
      ]
     },
     "execution_count": 67,
     "metadata": {},
     "output_type": "execute_result"
    }
   ],
   "source": [
    "len(c)"
   ]
  },
  {
   "cell_type": "markdown",
   "id": "882c0a13",
   "metadata": {},
   "source": [
    "4. If you were to add 3 to each data point, how many positive numbers would there be?"
   ]
  },
  {
   "cell_type": "code",
   "execution_count": 78,
   "id": "dd168c6a",
   "metadata": {},
   "outputs": [
    {
     "data": {
      "text/plain": [
       "array([ 7, 13, 15, 26,  1,  2,  3,  3,  3, -3,  6, -4])"
      ]
     },
     "execution_count": 78,
     "metadata": {},
     "output_type": "execute_result"
    }
   ],
   "source": [
    "a2 = a + 3\n",
    "a2"
   ]
  },
  {
   "cell_type": "code",
   "execution_count": 79,
   "id": "3d71f926",
   "metadata": {},
   "outputs": [
    {
     "data": {
      "text/plain": [
       "array([ 7, 13, 15, 26,  1,  2,  3,  3,  3,  6])"
      ]
     },
     "execution_count": 79,
     "metadata": {},
     "output_type": "execute_result"
    }
   ],
   "source": [
    "b2 = a2[a2 > 0]\n",
    "b2"
   ]
  },
  {
   "cell_type": "code",
   "execution_count": 82,
   "id": "91bc55c4",
   "metadata": {},
   "outputs": [
    {
     "data": {
      "text/plain": [
       "10"
      ]
     },
     "execution_count": 82,
     "metadata": {},
     "output_type": "execute_result"
    }
   ],
   "source": [
    "len(b2)"
   ]
  },
  {
   "cell_type": "markdown",
   "id": "82106d06",
   "metadata": {},
   "source": [
    "5. If you squared each number, what would the new mean and standard deviation be?"
   ]
  },
  {
   "cell_type": "code",
   "execution_count": 74,
   "id": "e0e013ab",
   "metadata": {},
   "outputs": [
    {
     "data": {
      "text/plain": [
       "array([ 16, 100, 144, 529,   4,   1,   0,   0,   0,  36,   9,  49])"
      ]
     },
     "execution_count": 74,
     "metadata": {},
     "output_type": "execute_result"
    }
   ],
   "source": [
    "squared = a ** 2\n",
    "squared"
   ]
  },
  {
   "cell_type": "code",
   "execution_count": 75,
   "id": "102bb856",
   "metadata": {},
   "outputs": [
    {
     "data": {
      "text/plain": [
       "74.0"
      ]
     },
     "execution_count": 75,
     "metadata": {},
     "output_type": "execute_result"
    }
   ],
   "source": [
    "squared.mean()"
   ]
  },
  {
   "cell_type": "code",
   "execution_count": 76,
   "id": "8a564dc7",
   "metadata": {},
   "outputs": [
    {
     "data": {
      "text/plain": [
       "144.0243035046516"
      ]
     },
     "execution_count": 76,
     "metadata": {},
     "output_type": "execute_result"
    }
   ],
   "source": [
    "squared.std()"
   ]
  },
  {
   "cell_type": "markdown",
   "id": "93b960de",
   "metadata": {},
   "source": [
    "6. A common statistical operation on a dataset is centering. This means to adjust the data such that the mean of the data is 0. This is done by subtracting the mean from each data point. Center the data set. See this link for more on centering."
   ]
  },
  {
   "cell_type": "code",
   "execution_count": 84,
   "id": "bea68c16",
   "metadata": {},
   "outputs": [
    {
     "data": {
      "text/plain": [
       "array([  1.,   7.,   9.,  20.,  -5.,  -4.,  -3.,  -3.,  -3.,  -9.,   0.,\n",
       "       -10.])"
      ]
     },
     "execution_count": 84,
     "metadata": {},
     "output_type": "execute_result"
    }
   ],
   "source": [
    "centered = a - a.mean()\n",
    "centered"
   ]
  },
  {
   "cell_type": "markdown",
   "id": "350723c6",
   "metadata": {},
   "source": [
    "7. Calculate the z-score for each data point."
   ]
  },
  {
   "cell_type": "code",
   "execution_count": 89,
   "id": "e72ae042",
   "metadata": {
    "scrolled": true
   },
   "outputs": [
    {
     "data": {
      "text/plain": [
       "array([ 0.12403473,  0.86824314,  1.11631261,  2.48069469, -0.62017367,\n",
       "       -0.49613894, -0.3721042 , -0.3721042 , -0.3721042 , -1.11631261,\n",
       "        0.        , -1.24034735])"
      ]
     },
     "execution_count": 89,
     "metadata": {},
     "output_type": "execute_result"
    }
   ],
   "source": [
    "z_score = centered / a.std()\n",
    "z_score"
   ]
  },
  {
   "cell_type": "markdown",
   "id": "5e7d579e",
   "metadata": {},
   "source": [
    "8. Copy the setup and exercise directions from More Numpy Practice into your numpy_exercises.py and add your solutions."
   ]
  },
  {
   "cell_type": "code",
   "execution_count": 102,
   "id": "5106acae",
   "metadata": {},
   "outputs": [],
   "source": [
    "## Setup 1\n",
    "a = [1, 2, 3, 4, 5, 6, 7, 8, 9, 10]"
   ]
  },
  {
   "cell_type": "code",
   "execution_count": 103,
   "id": "08a453d8",
   "metadata": {},
   "outputs": [],
   "source": [
    "# Use python's built in functionality/operators to determine the following:"
   ]
  },
  {
   "cell_type": "code",
   "execution_count": 104,
   "id": "113a22d7",
   "metadata": {},
   "outputs": [
    {
     "name": "stdout",
     "output_type": "stream",
     "text": [
      "55\n"
     ]
    }
   ],
   "source": [
    "# Exercise 1 - Make a variable called sum_of_a to hold the sum of all the numbers in above list\n",
    "\n",
    "sum_of_a = sum(a)\n",
    "print(sum_of_a)"
   ]
  },
  {
   "cell_type": "code",
   "execution_count": 105,
   "id": "54fa81c1",
   "metadata": {},
   "outputs": [
    {
     "name": "stdout",
     "output_type": "stream",
     "text": [
      "1\n"
     ]
    }
   ],
   "source": [
    "# Exercise 2 - Make a variable named min_of_a to hold the minimum of all the numbers in the above list\n",
    "\n",
    "min_of_a = min(a)\n",
    "print(min_of_a)"
   ]
  },
  {
   "cell_type": "code",
   "execution_count": 106,
   "id": "9f915bd9",
   "metadata": {},
   "outputs": [
    {
     "name": "stdout",
     "output_type": "stream",
     "text": [
      "10\n"
     ]
    }
   ],
   "source": [
    "# Exercise 3 - Make a variable named max_of_a to hold the max number of all the numbers in the above list\n",
    "\n",
    "max_of_a = max(a)\n",
    "print(max_of_a)"
   ]
  },
  {
   "cell_type": "code",
   "execution_count": 108,
   "id": "611f8d13",
   "metadata": {},
   "outputs": [
    {
     "name": "stdout",
     "output_type": "stream",
     "text": [
      "5.5\n"
     ]
    }
   ],
   "source": [
    "# Exercise 4 - Make a variable named mean_of_a to hold the average of all the numbers in the above list\n",
    "\n",
    "mean_of_a = sum(a) / len(a)\n",
    "print(mean_of_a)"
   ]
  },
  {
   "cell_type": "code",
   "execution_count": 113,
   "id": "86f19bc5",
   "metadata": {},
   "outputs": [
    {
     "name": "stdout",
     "output_type": "stream",
     "text": [
      "3628800\n"
     ]
    }
   ],
   "source": [
    "# Exercise 5 - Make a variable named product_of_a to hold the product of multiplying all the numbers in the above list together\n",
    "\n",
    "product_of_a = 1\n",
    "for number in a:\n",
    "    product_of_a *= number\n",
    "    \n",
    "print(product_of_a)"
   ]
  },
  {
   "cell_type": "code",
   "execution_count": 114,
   "id": "4504d6a2",
   "metadata": {},
   "outputs": [
    {
     "name": "stdout",
     "output_type": "stream",
     "text": [
      "[1, 4, 9, 16, 25, 36, 49, 64, 81, 100]\n"
     ]
    }
   ],
   "source": [
    "# Exercise 6 - Make a variable named squares_of_a. It should hold each number in a squared like [1, 4, 9, 16, 25...]\n",
    "\n",
    "squares_of_a = list()\n",
    "\n",
    "for number in a:\n",
    "    squares_of_a.append(number ** 2)\n",
    "    \n",
    "print(squares_of_a)"
   ]
  },
  {
   "cell_type": "code",
   "execution_count": 115,
   "id": "78d5ef58",
   "metadata": {},
   "outputs": [
    {
     "name": "stdout",
     "output_type": "stream",
     "text": [
      "[1, 3, 5, 7, 9]\n"
     ]
    }
   ],
   "source": [
    "# Exercise 7 - Make a variable named odds_in_a. It should hold only the odd numbers\n",
    "\n",
    "odds_in_a = list()\n",
    "\n",
    "for number in a:\n",
    "    if number % 2 != 0:\n",
    "        odds_in_a.append(number)\n",
    "        \n",
    "print(odds_in_a)"
   ]
  },
  {
   "cell_type": "code",
   "execution_count": 117,
   "id": "b9fa3852",
   "metadata": {},
   "outputs": [
    {
     "name": "stdout",
     "output_type": "stream",
     "text": [
      "[2, 4, 6, 8, 10]\n"
     ]
    }
   ],
   "source": [
    "# Exercise 8 - Make a variable named evens_in_a. It should hold only the evens.\n",
    "\n",
    "evens_in_a = list()\n",
    "\n",
    "for number in a:\n",
    "    if number % 2 == 0:\n",
    "        evens_in_a.append(number)\n",
    "        \n",
    "print(evens_in_a)"
   ]
  },
  {
   "cell_type": "code",
   "execution_count": null,
   "id": "b4cf2e1f",
   "metadata": {},
   "outputs": [],
   "source": [
    "## What about life in two dimensions? A list of lists is matrix, a table, a spreadsheet, a chessboard..."
   ]
  },
  {
   "cell_type": "code",
   "execution_count": 128,
   "id": "554f53f7",
   "metadata": {},
   "outputs": [],
   "source": [
    "## Setup 2: Consider what it would take to find the sum, min, max, average, sum, product, and list of squares for this list of two lists.\n",
    "\n",
    "b = [\n",
    "    [3, 4, 5],\n",
    "    [6, 7, 8]\n",
    "]"
   ]
  },
  {
   "cell_type": "code",
   "execution_count": 129,
   "id": "3f0f2e98",
   "metadata": {},
   "outputs": [
    {
     "name": "stdout",
     "output_type": "stream",
     "text": [
      "[[3, 4, 5], [6, 7, 8]]\n",
      "<class 'list'>\n",
      "[[3 4 5]\n",
      " [6 7 8]]\n",
      "<class 'numpy.ndarray'>\n"
     ]
    }
   ],
   "source": [
    "# **Hint, you'll first need to make sure that the \"b\" variable is a numpy array**\n",
    "# make b into a numpy array called b_array\n",
    "\n",
    "b_array = np.array([\n",
    "    [3, 4, 5],\n",
    "    [6, 7, 8]\n",
    "])\n",
    "\n",
    "print(b)\n",
    "print(type(b))\n",
    "print(b_array)\n",
    "print(type(b_array))"
   ]
  },
  {
   "cell_type": "code",
   "execution_count": 137,
   "id": "b319c72e",
   "metadata": {},
   "outputs": [
    {
     "name": "stdout",
     "output_type": "stream",
     "text": [
      "33\n"
     ]
    }
   ],
   "source": [
    "# Exercise 1 - refactor the following to use numpy. Use sum_of_b as the variable.\n",
    "sum_of_b = 0\n",
    "for row in b:\n",
    "    sum_of_b += sum(row)\n",
    "    \n",
    "print(sum_of_b)"
   ]
  },
  {
   "cell_type": "code",
   "execution_count": 138,
   "id": "68c9190e",
   "metadata": {},
   "outputs": [
    {
     "name": "stdout",
     "output_type": "stream",
     "text": [
      "33\n"
     ]
    }
   ],
   "source": [
    "# Using numpy\n",
    "\n",
    "sum_of_b = b_array.sum()\n",
    "print(sum_of_b)"
   ]
  },
  {
   "cell_type": "code",
   "execution_count": 132,
   "id": "35a762c3",
   "metadata": {},
   "outputs": [
    {
     "data": {
      "text/plain": [
       "33"
      ]
     },
     "execution_count": 132,
     "metadata": {},
     "output_type": "execute_result"
    }
   ],
   "source": [
    "sum_of_b"
   ]
  },
  {
   "cell_type": "code",
   "execution_count": 141,
   "id": "0dc30f07",
   "metadata": {},
   "outputs": [
    {
     "name": "stdout",
     "output_type": "stream",
     "text": [
      "3\n"
     ]
    }
   ],
   "source": [
    "# Exercise 2 - refactor the following to use numpy. \n",
    "\n",
    "min_of_b = min(b[0]) if min(b[0]) <= min(b[1]) else min(b[1]) \n",
    "\n",
    "print(min_of_b)"
   ]
  },
  {
   "cell_type": "code",
   "execution_count": 142,
   "id": "ab3a6ddc",
   "metadata": {},
   "outputs": [
    {
     "name": "stdout",
     "output_type": "stream",
     "text": [
      "3\n"
     ]
    }
   ],
   "source": [
    "# using numpy\n",
    "\n",
    "min_of_b = b_array.min()\n",
    "print(min_of_b)"
   ]
  },
  {
   "cell_type": "code",
   "execution_count": 144,
   "id": "5b9fe9c2",
   "metadata": {},
   "outputs": [
    {
     "name": "stdout",
     "output_type": "stream",
     "text": [
      "8\n"
     ]
    }
   ],
   "source": [
    "# Exercise 3 - refactor the following maximum calculation to find the answer with numpy.\n",
    "\n",
    "max_of_b = max(b[0]) if max(b[0]) >= max(b[1]) else max(b[1])\n",
    "\n",
    "print(max_of_b)"
   ]
  },
  {
   "cell_type": "code",
   "execution_count": 145,
   "id": "2fc77d7f",
   "metadata": {},
   "outputs": [
    {
     "name": "stdout",
     "output_type": "stream",
     "text": [
      "8\n"
     ]
    }
   ],
   "source": [
    "# using numpy\n",
    "\n",
    "max_of_b = b_array.max()\n",
    "print(max_of_b)"
   ]
  },
  {
   "cell_type": "code",
   "execution_count": 146,
   "id": "af30144b",
   "metadata": {},
   "outputs": [
    {
     "name": "stdout",
     "output_type": "stream",
     "text": [
      "5.5\n"
     ]
    }
   ],
   "source": [
    "# Exercise 4 - refactor the following using numpy to find the mean of b\n",
    "\n",
    "mean_of_b = (sum(b[0]) + sum(b[1])) / (len(b[0]) + len(b[1]))\n",
    "\n",
    "print(mean_of_b)"
   ]
  },
  {
   "cell_type": "code",
   "execution_count": 148,
   "id": "ce33abf1",
   "metadata": {},
   "outputs": [
    {
     "name": "stdout",
     "output_type": "stream",
     "text": [
      "5.5\n"
     ]
    }
   ],
   "source": [
    "# using numpy\n",
    "\n",
    "mean_of_b = b_array.mean()\n",
    "print(mean_of_b)"
   ]
  },
  {
   "cell_type": "code",
   "execution_count": 149,
   "id": "9251e701",
   "metadata": {},
   "outputs": [
    {
     "name": "stdout",
     "output_type": "stream",
     "text": [
      "20160\n"
     ]
    }
   ],
   "source": [
    "# Exercise 5 - refactor the following to use numpy for calculating the product of all numbers multiplied together.\n",
    "\n",
    "product_of_b = 1\n",
    "for row in b:\n",
    "    for number in row:\n",
    "        product_of_b *= number\n",
    "        \n",
    "print(product_of_b)"
   ]
  },
  {
   "cell_type": "code",
   "execution_count": 152,
   "id": "daea417f",
   "metadata": {},
   "outputs": [
    {
     "name": "stdout",
     "output_type": "stream",
     "text": [
      "20160\n"
     ]
    }
   ],
   "source": [
    "# using numpy\n",
    "\n",
    "product_of_b = b_array.prod()\n",
    "print(product_of_b)"
   ]
  },
  {
   "cell_type": "code",
   "execution_count": 154,
   "id": "a47743a5",
   "metadata": {},
   "outputs": [
    {
     "name": "stdout",
     "output_type": "stream",
     "text": [
      "[9, 16, 25, 36, 49, 64]\n"
     ]
    }
   ],
   "source": [
    "# Exercise 6 - refactor the following to use numpy to find the list of squares \n",
    "\n",
    "squares_of_b = []\n",
    "for row in b:\n",
    "    for number in row:\n",
    "        squares_of_b.append(number**2)\n",
    "        \n",
    "print(squares_of_b)"
   ]
  },
  {
   "cell_type": "code",
   "execution_count": 158,
   "id": "c44cbf55",
   "metadata": {},
   "outputs": [
    {
     "name": "stdout",
     "output_type": "stream",
     "text": [
      "[ 9 16 25 36 49 64]\n"
     ]
    }
   ],
   "source": [
    "# using numpy\n",
    "\n",
    "squares_of_b = np.square(b_array).flatten()\n",
    "print(squares_of_b)"
   ]
  },
  {
   "cell_type": "code",
   "execution_count": 159,
   "id": "998c1b63",
   "metadata": {},
   "outputs": [
    {
     "name": "stdout",
     "output_type": "stream",
     "text": [
      "[3, 5, 7]\n"
     ]
    }
   ],
   "source": [
    "# Exercise 7 - refactor using numpy to determine the odds_in_b\n",
    "\n",
    "odds_in_b = []\n",
    "for row in b:\n",
    "    for number in row:\n",
    "        if(number % 2 != 0):\n",
    "            odds_in_b.append(number)\n",
    "            \n",
    "print(odds_in_b)"
   ]
  },
  {
   "cell_type": "code",
   "execution_count": 161,
   "id": "22b745a3",
   "metadata": {},
   "outputs": [
    {
     "name": "stdout",
     "output_type": "stream",
     "text": [
      "[3 5 7]\n"
     ]
    }
   ],
   "source": [
    "# using numpy\n",
    "\n",
    "odds_in_b = b_array[b_array % 2 != 0]\n",
    "print(odds_in_b)"
   ]
  },
  {
   "cell_type": "code",
   "execution_count": 162,
   "id": "bd88c6d4",
   "metadata": {},
   "outputs": [
    {
     "name": "stdout",
     "output_type": "stream",
     "text": [
      "[4, 6, 8]\n"
     ]
    }
   ],
   "source": [
    "# Exercise 8 - refactor the following to use numpy to filter only the even numbers\n",
    "\n",
    "evens_in_b = []\n",
    "for row in b:\n",
    "    for number in row:\n",
    "        if(number % 2 == 0):\n",
    "            evens_in_b.append(number)\n",
    "            \n",
    "print(evens_in_b)"
   ]
  },
  {
   "cell_type": "code",
   "execution_count": 163,
   "id": "37ec07ae",
   "metadata": {},
   "outputs": [
    {
     "name": "stdout",
     "output_type": "stream",
     "text": [
      "[4 6 8]\n"
     ]
    }
   ],
   "source": [
    "# using numpy\n",
    "\n",
    "evens_in_b = b_array[b_array % 2 == 0]\n",
    "print(evens_in_b)"
   ]
  },
  {
   "cell_type": "code",
   "execution_count": 165,
   "id": "46c616f5",
   "metadata": {},
   "outputs": [
    {
     "name": "stdout",
     "output_type": "stream",
     "text": [
      "(2, 3)\n"
     ]
    }
   ],
   "source": [
    "# Exercise 9 - print out the shape of the array b.\n",
    "\n",
    "print(b_array.shape)"
   ]
  },
  {
   "cell_type": "code",
   "execution_count": 167,
   "id": "b7a7bc6f",
   "metadata": {},
   "outputs": [
    {
     "name": "stdout",
     "output_type": "stream",
     "text": [
      "[[3 6]\n",
      " [4 7]\n",
      " [5 8]]\n"
     ]
    }
   ],
   "source": [
    "# Exercise 10 - transpose the array b.\n",
    "\n",
    "print(np.transpose(b_array))"
   ]
  },
  {
   "cell_type": "code",
   "execution_count": 184,
   "id": "bcd6cbd7",
   "metadata": {},
   "outputs": [
    {
     "name": "stdout",
     "output_type": "stream",
     "text": [
      "[3 4 5 6 7 8]\n",
      "[[3 4 5 6 7 8]]\n"
     ]
    }
   ],
   "source": [
    "# Exercise 11 - reshape the array b to be a single list of 6 numbers. (1 x 6)\n",
    "\n",
    "print(b_array.flatten())\n",
    "print(b_array.reshape(1 , 6))"
   ]
  },
  {
   "cell_type": "code",
   "execution_count": 182,
   "id": "f0cbd723",
   "metadata": {},
   "outputs": [
    {
     "name": "stdout",
     "output_type": "stream",
     "text": [
      "[[3]\n",
      " [4]\n",
      " [5]\n",
      " [6]\n",
      " [7]\n",
      " [8]]\n"
     ]
    }
   ],
   "source": [
    "# Exercise 12 - reshape the array b to be a list of 6 lists, each containing only 1 number (6 x 1)\n",
    "\n",
    "print(b_array.reshape(6 , 1))"
   ]
  },
  {
   "cell_type": "code",
   "execution_count": 185,
   "id": "a0f2a64f",
   "metadata": {},
   "outputs": [],
   "source": [
    "## Setup 3\n",
    "c = [\n",
    "    [1, 2, 3],\n",
    "    [4, 5, 6],\n",
    "    [7, 8, 9]\n",
    "]"
   ]
  },
  {
   "cell_type": "code",
   "execution_count": 188,
   "id": "e6ad5578",
   "metadata": {},
   "outputs": [
    {
     "name": "stdout",
     "output_type": "stream",
     "text": [
      "[[1, 2, 3], [4, 5, 6], [7, 8, 9]]\n",
      "<class 'list'>\n",
      "[[1 2 3]\n",
      " [4 5 6]\n",
      " [7 8 9]]\n",
      "<class 'numpy.ndarray'>\n"
     ]
    }
   ],
   "source": [
    "# HINT, you'll first need to make sure that the \"c\" variable is a numpy array prior to using numpy array methods.\n",
    "# make c into a numpy array called c_array\n",
    "\n",
    "c_array = np.array([\n",
    "    [1, 2, 3],\n",
    "    [4, 5, 6],\n",
    "    [7, 8, 9]\n",
    "])\n",
    "\n",
    "print(c)\n",
    "print(type(c))\n",
    "print(c_array)\n",
    "print(type(c_array))"
   ]
  },
  {
   "cell_type": "code",
   "execution_count": 189,
   "id": "3e539ea7",
   "metadata": {},
   "outputs": [
    {
     "name": "stdout",
     "output_type": "stream",
     "text": [
      "1\n",
      "9\n",
      "45\n",
      "362880\n"
     ]
    }
   ],
   "source": [
    "# Exercise 1 - Find the min, max, sum, and product of c.\n",
    "\n",
    "print(c_array.min())\n",
    "print(c_array.max())\n",
    "print(c_array.sum())\n",
    "print(c_array.prod())"
   ]
  },
  {
   "cell_type": "code",
   "execution_count": 190,
   "id": "7f8ccaa3",
   "metadata": {},
   "outputs": [
    {
     "name": "stdout",
     "output_type": "stream",
     "text": [
      "2.581988897471611\n"
     ]
    }
   ],
   "source": [
    "# Exercise 2 - Determine the standard deviation of c.\n",
    "\n",
    "print(c_array.std())"
   ]
  },
  {
   "cell_type": "code",
   "execution_count": 192,
   "id": "077a9b1f",
   "metadata": {
    "scrolled": true
   },
   "outputs": [
    {
     "name": "stdout",
     "output_type": "stream",
     "text": [
      "6.666666666666667\n",
      "6.666666666666667\n"
     ]
    }
   ],
   "source": [
    "# Exercise 3 - Determine the variance of c.\n",
    "\n",
    "print(c_array.var())"
   ]
  },
  {
   "cell_type": "code",
   "execution_count": 193,
   "id": "72971a19",
   "metadata": {},
   "outputs": [
    {
     "name": "stdout",
     "output_type": "stream",
     "text": [
      "(3, 3)\n"
     ]
    }
   ],
   "source": [
    "# Exercise 4 - Print out the shape of the array c\n",
    "\n",
    "print(c_array.shape)"
   ]
  },
  {
   "cell_type": "code",
   "execution_count": 194,
   "id": "911af32f",
   "metadata": {
    "scrolled": true
   },
   "outputs": [
    {
     "name": "stdout",
     "output_type": "stream",
     "text": [
      "[[1 4 7]\n",
      " [2 5 8]\n",
      " [3 6 9]]\n"
     ]
    }
   ],
   "source": [
    "# Exercise 5 - Transpose c and print out transposed result.\n",
    "\n",
    "print(c_array.transpose())"
   ]
  },
  {
   "cell_type": "code",
   "execution_count": 198,
   "id": "fef04123",
   "metadata": {},
   "outputs": [
    {
     "name": "stdout",
     "output_type": "stream",
     "text": [
      "[[ 30  36  42]\n",
      " [ 66  81  96]\n",
      " [102 126 150]]\n"
     ]
    }
   ],
   "source": [
    "# Exercise 6 - Get the dot product of the array c with c. \n",
    "\n",
    "print(np.dot(c_array, c))"
   ]
  },
  {
   "cell_type": "code",
   "execution_count": 202,
   "id": "9ff4c445",
   "metadata": {},
   "outputs": [
    {
     "name": "stdout",
     "output_type": "stream",
     "text": [
      "261\n"
     ]
    }
   ],
   "source": [
    "# Exercise 7 - Write the code necessary to sum up the result of c times c transposed. Answer should be 261\n",
    "\n",
    "print((c_array * c_array.transpose()).sum())"
   ]
  },
  {
   "cell_type": "code",
   "execution_count": 204,
   "id": "a55ecaad",
   "metadata": {},
   "outputs": [
    {
     "name": "stdout",
     "output_type": "stream",
     "text": [
      "131681894400\n"
     ]
    }
   ],
   "source": [
    "# Exercise 8 - Write the code necessary to determine the product of c times c transposed. Answer should be 131681894400.\n",
    "\n",
    "print((c_array * c_array.transpose()).prod())"
   ]
  },
  {
   "cell_type": "code",
   "execution_count": 205,
   "id": "f04662d0",
   "metadata": {},
   "outputs": [],
   "source": [
    "## Setup 4\n",
    "d = [\n",
    "    [90, 30, 45, 0, 120, 180],\n",
    "    [45, -90, -30, 270, 90, 0],\n",
    "    [60, 45, -45, 90, -45, 180]\n",
    "]"
   ]
  },
  {
   "cell_type": "code",
   "execution_count": 206,
   "id": "e1110a69",
   "metadata": {},
   "outputs": [
    {
     "name": "stdout",
     "output_type": "stream",
     "text": [
      "[[90, 30, 45, 0, 120, 180], [45, -90, -30, 270, 90, 0], [60, 45, -45, 90, -45, 180]]\n",
      "<class 'list'>\n",
      "[[ 90  30  45   0 120 180]\n",
      " [ 45 -90 -30 270  90   0]\n",
      " [ 60  45 -45  90 -45 180]]\n",
      "<class 'numpy.ndarray'>\n"
     ]
    }
   ],
   "source": [
    "# make d into a numpy array called d_array\n",
    "\n",
    "d_array = np.array(\n",
    "[\n",
    "    [90, 30, 45, 0, 120, 180],\n",
    "    [45, -90, -30, 270, 90, 0],\n",
    "    [60, 45, -45, 90, -45, 180]\n",
    "]\n",
    ")\n",
    "\n",
    "print(d)\n",
    "print(type(d))\n",
    "print(d_array)\n",
    "print(type(d_array))"
   ]
  },
  {
   "cell_type": "code",
   "execution_count": 209,
   "id": "d49ff67b",
   "metadata": {},
   "outputs": [
    {
     "name": "stdout",
     "output_type": "stream",
     "text": [
      "[[ 0.89399666 -0.98803162  0.85090352  0.          0.58061118 -0.80115264]\n",
      " [ 0.85090352 -0.89399666  0.98803162 -0.17604595  0.89399666  0.        ]\n",
      " [-0.30481062  0.85090352 -0.85090352  0.89399666 -0.85090352 -0.80115264]]\n"
     ]
    }
   ],
   "source": [
    "# Exercise 1 - Find the sine of all the numbers in d\n",
    "\n",
    "print(np.sin(d_array))"
   ]
  },
  {
   "cell_type": "code",
   "execution_count": 210,
   "id": "238539c3",
   "metadata": {},
   "outputs": [
    {
     "name": "stdout",
     "output_type": "stream",
     "text": [
      "[[-0.44807362  0.15425145  0.52532199  1.          0.81418097 -0.59846007]\n",
      " [ 0.52532199 -0.44807362  0.15425145  0.98438195 -0.44807362  1.        ]\n",
      " [-0.95241298  0.52532199  0.52532199 -0.44807362  0.52532199 -0.59846007]]\n"
     ]
    }
   ],
   "source": [
    "# Exercise 2 - Find the cosine of all the numbers in d\n",
    "\n",
    "print(np.cos(d_array))"
   ]
  },
  {
   "cell_type": "code",
   "execution_count": 211,
   "id": "85dc54f8",
   "metadata": {},
   "outputs": [
    {
     "name": "stdout",
     "output_type": "stream",
     "text": [
      "[[-1.99520041 -6.4053312   1.61977519  0.          0.71312301  1.33869021]\n",
      " [ 1.61977519  1.99520041  6.4053312  -0.17883906 -1.99520041  0.        ]\n",
      " [ 0.32004039  1.61977519 -1.61977519 -1.99520041 -1.61977519  1.33869021]]\n"
     ]
    }
   ],
   "source": [
    "# Exercise 3 - Find the tangent of all the numbers in d\n",
    " \n",
    "print(np.tan(d_array))"
   ]
  },
  {
   "cell_type": "code",
   "execution_count": 212,
   "id": "7fe94a41",
   "metadata": {},
   "outputs": [
    {
     "name": "stdout",
     "output_type": "stream",
     "text": [
      "[-90 -30 -45 -45]\n"
     ]
    }
   ],
   "source": [
    "# Exercise 4 - Find all the negative numbers in d\n",
    "\n",
    "print(d_array[d_array < 0])"
   ]
  },
  {
   "cell_type": "code",
   "execution_count": 213,
   "id": "a1581d52",
   "metadata": {},
   "outputs": [
    {
     "name": "stdout",
     "output_type": "stream",
     "text": [
      "[ 90  30  45 120 180  45 270  90  60  45  90 180]\n"
     ]
    }
   ],
   "source": [
    "# Exercise 5 - Find all the positive numbers in d\n",
    "\n",
    "print(d_array[d_array > 0])"
   ]
  },
  {
   "cell_type": "code",
   "execution_count": 214,
   "id": "90cf3ac7",
   "metadata": {
    "scrolled": true
   },
   "outputs": [
    {
     "name": "stdout",
     "output_type": "stream",
     "text": [
      "[-90 -45 -30   0  30  45  60  90 120 180 270]\n"
     ]
    }
   ],
   "source": [
    "# Exercise 6 - Return an array of only the unique numbers in d.\n",
    "\n",
    "print(np.unique(d_array))"
   ]
  },
  {
   "cell_type": "code",
   "execution_count": 215,
   "id": "757ecd0d",
   "metadata": {},
   "outputs": [
    {
     "name": "stdout",
     "output_type": "stream",
     "text": [
      "11\n"
     ]
    }
   ],
   "source": [
    "# Exercise 7 - Determine how many unique numbers there are in d.\n",
    "\n",
    "print(len(np.unique(d_array)))"
   ]
  },
  {
   "cell_type": "code",
   "execution_count": 216,
   "id": "a9714a6a",
   "metadata": {},
   "outputs": [
    {
     "name": "stdout",
     "output_type": "stream",
     "text": [
      "(3, 6)\n"
     ]
    }
   ],
   "source": [
    "# Exercise 8 - Print out the shape of d.\n",
    "\n",
    "print(d_array.shape)"
   ]
  },
  {
   "cell_type": "code",
   "execution_count": 218,
   "id": "c85642b5",
   "metadata": {
    "scrolled": true
   },
   "outputs": [
    {
     "name": "stdout",
     "output_type": "stream",
     "text": [
      "(6, 3)\n"
     ]
    }
   ],
   "source": [
    "# Exercise 9 - Transpose and then print out the shape of d.\n",
    "\n",
    "print(d_array.transpose().shape)"
   ]
  },
  {
   "cell_type": "code",
   "execution_count": 219,
   "id": "30bccc67",
   "metadata": {},
   "outputs": [
    {
     "name": "stdout",
     "output_type": "stream",
     "text": [
      "[[ 90  30]\n",
      " [ 45   0]\n",
      " [120 180]\n",
      " [ 45 -90]\n",
      " [-30 270]\n",
      " [ 90   0]\n",
      " [ 60  45]\n",
      " [-45  90]\n",
      " [-45 180]]\n"
     ]
    }
   ],
   "source": [
    "# Exercise 10 - Reshape d into an array of 9 x 2\n",
    "\n",
    "print(d_array.reshape(9, 2))"
   ]
  }
 ],
 "metadata": {
  "kernelspec": {
   "display_name": "Python 3",
   "language": "python",
   "name": "python3"
  },
  "language_info": {
   "codemirror_mode": {
    "name": "ipython",
    "version": 3
   },
   "file_extension": ".py",
   "mimetype": "text/x-python",
   "name": "python",
   "nbconvert_exporter": "python",
   "pygments_lexer": "ipython3",
   "version": "3.8.8"
  }
 },
 "nbformat": 4,
 "nbformat_minor": 5
}
